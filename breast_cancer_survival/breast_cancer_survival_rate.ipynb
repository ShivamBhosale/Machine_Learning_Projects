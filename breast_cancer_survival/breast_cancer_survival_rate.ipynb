{
 "cells": [
  {
   "cell_type": "markdown",
   "metadata": {},
   "source": [
    "## Breast Cancer Survival Prediction"
   ]
  },
  {
   "cell_type": "code",
   "execution_count": 160,
   "metadata": {},
   "outputs": [],
   "source": [
    "import pandas as pd\n",
    "import numpy as np\n",
    "import matplotlib.pyplot as plt\n",
    "import seaborn as sns\n",
    "import warnings\n",
    "warnings.filterwarnings(\"ignore\")"
   ]
  },
  {
   "cell_type": "code",
   "execution_count": 121,
   "metadata": {},
   "outputs": [],
   "source": [
    "df = pd.read_csv('breast_cancer_survival.csv')"
   ]
  },
  {
   "cell_type": "code",
   "execution_count": 122,
   "metadata": {},
   "outputs": [
    {
     "data": {
      "text/html": [
       "<div>\n",
       "<style scoped>\n",
       "    .dataframe tbody tr th:only-of-type {\n",
       "        vertical-align: middle;\n",
       "    }\n",
       "\n",
       "    .dataframe tbody tr th {\n",
       "        vertical-align: top;\n",
       "    }\n",
       "\n",
       "    .dataframe thead th {\n",
       "        text-align: right;\n",
       "    }\n",
       "</style>\n",
       "<table border=\"1\" class=\"dataframe\">\n",
       "  <thead>\n",
       "    <tr style=\"text-align: right;\">\n",
       "      <th></th>\n",
       "      <th>Age</th>\n",
       "      <th>Gender</th>\n",
       "      <th>Protein1</th>\n",
       "      <th>Protein2</th>\n",
       "      <th>Protein3</th>\n",
       "      <th>Protein4</th>\n",
       "      <th>Tumour_Stage</th>\n",
       "      <th>Histology</th>\n",
       "      <th>ER status</th>\n",
       "      <th>PR status</th>\n",
       "      <th>HER2 status</th>\n",
       "      <th>Surgery_type</th>\n",
       "      <th>Date_of_Surgery</th>\n",
       "      <th>Date_of_Last_Visit</th>\n",
       "      <th>Patient_Status</th>\n",
       "    </tr>\n",
       "  </thead>\n",
       "  <tbody>\n",
       "    <tr>\n",
       "      <th>0</th>\n",
       "      <td>42</td>\n",
       "      <td>FEMALE</td>\n",
       "      <td>0.95256</td>\n",
       "      <td>2.15000</td>\n",
       "      <td>0.007972</td>\n",
       "      <td>-0.048340</td>\n",
       "      <td>II</td>\n",
       "      <td>Infiltrating Ductal Carcinoma</td>\n",
       "      <td>Positive</td>\n",
       "      <td>Positive</td>\n",
       "      <td>Negative</td>\n",
       "      <td>Other</td>\n",
       "      <td>20-May-18</td>\n",
       "      <td>26-Aug-18</td>\n",
       "      <td>Alive</td>\n",
       "    </tr>\n",
       "    <tr>\n",
       "      <th>1</th>\n",
       "      <td>54</td>\n",
       "      <td>FEMALE</td>\n",
       "      <td>0.00000</td>\n",
       "      <td>1.38020</td>\n",
       "      <td>-0.498030</td>\n",
       "      <td>-0.507320</td>\n",
       "      <td>II</td>\n",
       "      <td>Infiltrating Ductal Carcinoma</td>\n",
       "      <td>Positive</td>\n",
       "      <td>Positive</td>\n",
       "      <td>Negative</td>\n",
       "      <td>Other</td>\n",
       "      <td>26-Apr-18</td>\n",
       "      <td>25-Jan-19</td>\n",
       "      <td>Dead</td>\n",
       "    </tr>\n",
       "    <tr>\n",
       "      <th>2</th>\n",
       "      <td>63</td>\n",
       "      <td>FEMALE</td>\n",
       "      <td>-0.52303</td>\n",
       "      <td>1.76400</td>\n",
       "      <td>-0.370190</td>\n",
       "      <td>0.010815</td>\n",
       "      <td>II</td>\n",
       "      <td>Infiltrating Ductal Carcinoma</td>\n",
       "      <td>Positive</td>\n",
       "      <td>Positive</td>\n",
       "      <td>Negative</td>\n",
       "      <td>Lumpectomy</td>\n",
       "      <td>24-Aug-18</td>\n",
       "      <td>08-Apr-20</td>\n",
       "      <td>Alive</td>\n",
       "    </tr>\n",
       "    <tr>\n",
       "      <th>3</th>\n",
       "      <td>78</td>\n",
       "      <td>FEMALE</td>\n",
       "      <td>-0.87618</td>\n",
       "      <td>0.12943</td>\n",
       "      <td>-0.370380</td>\n",
       "      <td>0.132190</td>\n",
       "      <td>I</td>\n",
       "      <td>Infiltrating Ductal Carcinoma</td>\n",
       "      <td>Positive</td>\n",
       "      <td>Positive</td>\n",
       "      <td>Negative</td>\n",
       "      <td>Other</td>\n",
       "      <td>16-Nov-18</td>\n",
       "      <td>28-Jul-20</td>\n",
       "      <td>Alive</td>\n",
       "    </tr>\n",
       "    <tr>\n",
       "      <th>4</th>\n",
       "      <td>42</td>\n",
       "      <td>FEMALE</td>\n",
       "      <td>0.22611</td>\n",
       "      <td>1.74910</td>\n",
       "      <td>-0.543970</td>\n",
       "      <td>-0.390210</td>\n",
       "      <td>II</td>\n",
       "      <td>Infiltrating Ductal Carcinoma</td>\n",
       "      <td>Positive</td>\n",
       "      <td>Positive</td>\n",
       "      <td>Positive</td>\n",
       "      <td>Lumpectomy</td>\n",
       "      <td>12-Dec-18</td>\n",
       "      <td>05-Jan-19</td>\n",
       "      <td>Alive</td>\n",
       "    </tr>\n",
       "  </tbody>\n",
       "</table>\n",
       "</div>"
      ],
      "text/plain": [
       "   Age  Gender  Protein1  Protein2  Protein3  Protein4 Tumour_Stage  \\\n",
       "0   42  FEMALE   0.95256   2.15000  0.007972 -0.048340           II   \n",
       "1   54  FEMALE   0.00000   1.38020 -0.498030 -0.507320           II   \n",
       "2   63  FEMALE  -0.52303   1.76400 -0.370190  0.010815           II   \n",
       "3   78  FEMALE  -0.87618   0.12943 -0.370380  0.132190            I   \n",
       "4   42  FEMALE   0.22611   1.74910 -0.543970 -0.390210           II   \n",
       "\n",
       "                       Histology ER status PR status HER2 status Surgery_type  \\\n",
       "0  Infiltrating Ductal Carcinoma  Positive  Positive    Negative        Other   \n",
       "1  Infiltrating Ductal Carcinoma  Positive  Positive    Negative        Other   \n",
       "2  Infiltrating Ductal Carcinoma  Positive  Positive    Negative   Lumpectomy   \n",
       "3  Infiltrating Ductal Carcinoma  Positive  Positive    Negative        Other   \n",
       "4  Infiltrating Ductal Carcinoma  Positive  Positive    Positive   Lumpectomy   \n",
       "\n",
       "  Date_of_Surgery Date_of_Last_Visit Patient_Status  \n",
       "0       20-May-18          26-Aug-18          Alive  \n",
       "1       26-Apr-18          25-Jan-19           Dead  \n",
       "2       24-Aug-18          08-Apr-20          Alive  \n",
       "3       16-Nov-18          28-Jul-20          Alive  \n",
       "4       12-Dec-18          05-Jan-19          Alive  "
      ]
     },
     "execution_count": 122,
     "metadata": {},
     "output_type": "execute_result"
    }
   ],
   "source": [
    "df.head()"
   ]
  },
  {
   "cell_type": "code",
   "execution_count": 123,
   "metadata": {},
   "outputs": [
    {
     "name": "stdout",
     "output_type": "stream",
     "text": [
      "<class 'pandas.core.frame.DataFrame'>\n",
      "RangeIndex: 334 entries, 0 to 333\n",
      "Data columns (total 15 columns):\n",
      " #   Column              Non-Null Count  Dtype  \n",
      "---  ------              --------------  -----  \n",
      " 0   Age                 334 non-null    int64  \n",
      " 1   Gender              334 non-null    object \n",
      " 2   Protein1            334 non-null    float64\n",
      " 3   Protein2            334 non-null    float64\n",
      " 4   Protein3            334 non-null    float64\n",
      " 5   Protein4            334 non-null    float64\n",
      " 6   Tumour_Stage        334 non-null    object \n",
      " 7   Histology           334 non-null    object \n",
      " 8   ER status           334 non-null    object \n",
      " 9   PR status           334 non-null    object \n",
      " 10  HER2 status         334 non-null    object \n",
      " 11  Surgery_type        334 non-null    object \n",
      " 12  Date_of_Surgery     334 non-null    object \n",
      " 13  Date_of_Last_Visit  317 non-null    object \n",
      " 14  Patient_Status      321 non-null    object \n",
      "dtypes: float64(4), int64(1), object(10)\n",
      "memory usage: 39.3+ KB\n"
     ]
    }
   ],
   "source": [
    "df.info()"
   ]
  },
  {
   "cell_type": "code",
   "execution_count": 124,
   "metadata": {},
   "outputs": [],
   "source": [
    "df = df.dropna()"
   ]
  },
  {
   "cell_type": "code",
   "execution_count": 125,
   "metadata": {},
   "outputs": [
    {
     "data": {
      "text/html": [
       "<div>\n",
       "<style scoped>\n",
       "    .dataframe tbody tr th:only-of-type {\n",
       "        vertical-align: middle;\n",
       "    }\n",
       "\n",
       "    .dataframe tbody tr th {\n",
       "        vertical-align: top;\n",
       "    }\n",
       "\n",
       "    .dataframe thead th {\n",
       "        text-align: right;\n",
       "    }\n",
       "</style>\n",
       "<table border=\"1\" class=\"dataframe\">\n",
       "  <thead>\n",
       "    <tr style=\"text-align: right;\">\n",
       "      <th></th>\n",
       "      <th>Age</th>\n",
       "      <th>Protein1</th>\n",
       "      <th>Protein2</th>\n",
       "      <th>Protein3</th>\n",
       "      <th>Protein4</th>\n",
       "    </tr>\n",
       "  </thead>\n",
       "  <tbody>\n",
       "    <tr>\n",
       "      <th>count</th>\n",
       "      <td>317.000000</td>\n",
       "      <td>317.000000</td>\n",
       "      <td>317.000000</td>\n",
       "      <td>317.000000</td>\n",
       "      <td>317.000000</td>\n",
       "    </tr>\n",
       "    <tr>\n",
       "      <th>mean</th>\n",
       "      <td>58.725552</td>\n",
       "      <td>-0.027232</td>\n",
       "      <td>0.949557</td>\n",
       "      <td>-0.095104</td>\n",
       "      <td>0.006713</td>\n",
       "    </tr>\n",
       "    <tr>\n",
       "      <th>std</th>\n",
       "      <td>12.827374</td>\n",
       "      <td>0.543858</td>\n",
       "      <td>0.906153</td>\n",
       "      <td>0.589027</td>\n",
       "      <td>0.625965</td>\n",
       "    </tr>\n",
       "    <tr>\n",
       "      <th>min</th>\n",
       "      <td>29.000000</td>\n",
       "      <td>-2.144600</td>\n",
       "      <td>-0.978730</td>\n",
       "      <td>-1.627400</td>\n",
       "      <td>-2.025500</td>\n",
       "    </tr>\n",
       "    <tr>\n",
       "      <th>25%</th>\n",
       "      <td>49.000000</td>\n",
       "      <td>-0.350600</td>\n",
       "      <td>0.368840</td>\n",
       "      <td>-0.531360</td>\n",
       "      <td>-0.382240</td>\n",
       "    </tr>\n",
       "    <tr>\n",
       "      <th>50%</th>\n",
       "      <td>58.000000</td>\n",
       "      <td>0.005649</td>\n",
       "      <td>0.997130</td>\n",
       "      <td>-0.193040</td>\n",
       "      <td>0.038522</td>\n",
       "    </tr>\n",
       "    <tr>\n",
       "      <th>75%</th>\n",
       "      <td>67.000000</td>\n",
       "      <td>0.336260</td>\n",
       "      <td>1.612000</td>\n",
       "      <td>0.251210</td>\n",
       "      <td>0.436250</td>\n",
       "    </tr>\n",
       "    <tr>\n",
       "      <th>max</th>\n",
       "      <td>90.000000</td>\n",
       "      <td>1.593600</td>\n",
       "      <td>3.402200</td>\n",
       "      <td>2.193400</td>\n",
       "      <td>1.629900</td>\n",
       "    </tr>\n",
       "  </tbody>\n",
       "</table>\n",
       "</div>"
      ],
      "text/plain": [
       "              Age    Protein1    Protein2    Protein3    Protein4\n",
       "count  317.000000  317.000000  317.000000  317.000000  317.000000\n",
       "mean    58.725552   -0.027232    0.949557   -0.095104    0.006713\n",
       "std     12.827374    0.543858    0.906153    0.589027    0.625965\n",
       "min     29.000000   -2.144600   -0.978730   -1.627400   -2.025500\n",
       "25%     49.000000   -0.350600    0.368840   -0.531360   -0.382240\n",
       "50%     58.000000    0.005649    0.997130   -0.193040    0.038522\n",
       "75%     67.000000    0.336260    1.612000    0.251210    0.436250\n",
       "max     90.000000    1.593600    3.402200    2.193400    1.629900"
      ]
     },
     "execution_count": 125,
     "metadata": {},
     "output_type": "execute_result"
    }
   ],
   "source": [
    "df.describe()"
   ]
  },
  {
   "cell_type": "code",
   "execution_count": 126,
   "metadata": {},
   "outputs": [
    {
     "data": {
      "text/plain": [
       "array(['FEMALE', 'MALE'], dtype=object)"
      ]
     },
     "execution_count": 126,
     "metadata": {},
     "output_type": "execute_result"
    }
   ],
   "source": [
    "df['Gender'].unique()"
   ]
  },
  {
   "cell_type": "code",
   "execution_count": 127,
   "metadata": {},
   "outputs": [
    {
     "data": {
      "text/plain": [
       "Gender\n",
       "FEMALE    313\n",
       "MALE        4\n",
       "Name: count, dtype: int64"
      ]
     },
     "execution_count": 127,
     "metadata": {},
     "output_type": "execute_result"
    }
   ],
   "source": [
    "df['Gender'].value_counts()"
   ]
  },
  {
   "cell_type": "code",
   "execution_count": 128,
   "metadata": {},
   "outputs": [
    {
     "data": {
      "text/plain": [
       "array(['II', 'I', 'III'], dtype=object)"
      ]
     },
     "execution_count": 128,
     "metadata": {},
     "output_type": "execute_result"
    }
   ],
   "source": [
    "df['Tumour_Stage'].unique()"
   ]
  },
  {
   "cell_type": "code",
   "execution_count": 129,
   "metadata": {},
   "outputs": [
    {
     "data": {
      "text/plain": [
       "Tumour_Stage\n",
       "II     180\n",
       "III     77\n",
       "I       60\n",
       "Name: count, dtype: int64"
      ]
     },
     "execution_count": 129,
     "metadata": {},
     "output_type": "execute_result"
    }
   ],
   "source": [
    "df['Tumour_Stage'].value_counts()"
   ]
  },
  {
   "cell_type": "code",
   "execution_count": 130,
   "metadata": {},
   "outputs": [
    {
     "data": {
      "text/plain": [
       "Text(0.5, 1.0, 'Tumour Stage')"
      ]
     },
     "execution_count": 130,
     "metadata": {},
     "output_type": "execute_result"
    },
    {
     "data": {
      "image/png": "[encoded data removed]",
      "text/plain": [
       "<Figure size 600x500 with 1 Axes>"
      ]
     },
     "metadata": {},
     "output_type": "display_data"
    }
   ],
   "source": [
    "\n",
    "# Your data manipulation code remains the same\n",
    "stage = df['Tumour_Stage'].value_counts()\n",
    "transactions = stage.index\n",
    "quantity = stage.values\n",
    "\n",
    "plt.figure(figsize=(6,5))\n",
    "sns.barplot(x=transactions, y=quantity, hue=transactions, palette='rocket', legend=False).set_title('Tumour Stage')\n"
   ]
  },
  {
   "cell_type": "code",
   "execution_count": 131,
   "metadata": {},
   "outputs": [
    {
     "data": {
      "image/png": "[encoded data removed]",
      "text/plain": [
       "<Figure size 640x480 with 1 Axes>"
      ]
     },
     "metadata": {},
     "output_type": "display_data"
    }
   ],
   "source": [
    "plt.pie(stage,labels=transactions,autopct='%1.1f%%',shadow=True,startangle=90)\n",
    "plt.show()"
   ]
  },
  {
   "cell_type": "code",
   "execution_count": 132,
   "metadata": {},
   "outputs": [
    {
     "data": {
      "text/plain": [
       "array(['Infiltrating Ductal Carcinoma', 'Infiltrating Lobular Carcinoma',\n",
       "       'Mucinous Carcinoma'], dtype=object)"
      ]
     },
     "execution_count": 132,
     "metadata": {},
     "output_type": "execute_result"
    }
   ],
   "source": [
    "df[\"Histology\"].unique()"
   ]
  },
  {
   "cell_type": "code",
   "execution_count": 133,
   "metadata": {},
   "outputs": [
    {
     "data": {
      "text/plain": [
       "Histology\n",
       "Infiltrating Ductal Carcinoma     224\n",
       "Infiltrating Lobular Carcinoma     81\n",
       "Mucinous Carcinoma                 12\n",
       "Name: count, dtype: int64"
      ]
     },
     "execution_count": 133,
     "metadata": {},
     "output_type": "execute_result"
    }
   ],
   "source": [
    "df[\"Histology\"].value_counts()"
   ]
  },
  {
   "cell_type": "code",
   "execution_count": 134,
   "metadata": {},
   "outputs": [
    {
     "data": {
      "image/png": "[encoded data removed]",
      "text/plain": [
       "<Figure size 600x500 with 1 Axes>"
      ]
     },
     "metadata": {},
     "output_type": "display_data"
    }
   ],
   "source": [
    "stage = df[\"Histology\"].value_counts()\n",
    "transactions = df[\"Histology\"].value_counts().index\n",
    "quantity = df[\"Histology\"].value_counts().values\n",
    "\n",
    "plt.figure(figsize=(6,5))\n",
    "plt.title(\"Histology\")\n",
    "plt.pie(stage,labels=transactions,autopct='%1.1f%%')\n",
    "plt.show()"
   ]
  },
  {
   "cell_type": "code",
   "execution_count": 135,
   "metadata": {},
   "outputs": [
    {
     "data": {
      "text/plain": [
       "ER status\n",
       "Positive    317\n",
       "Name: count, dtype: int64"
      ]
     },
     "execution_count": 135,
     "metadata": {},
     "output_type": "execute_result"
    }
   ],
   "source": [
    "df[\"ER status\"].value_counts()"
   ]
  },
  {
   "cell_type": "code",
   "execution_count": 136,
   "metadata": {},
   "outputs": [
    {
     "data": {
      "text/plain": [
       "PR status\n",
       "Positive    317\n",
       "Name: count, dtype: int64"
      ]
     },
     "execution_count": 136,
     "metadata": {},
     "output_type": "execute_result"
    }
   ],
   "source": [
    "df[\"PR status\"].value_counts()"
   ]
  },
  {
   "cell_type": "code",
   "execution_count": 137,
   "metadata": {},
   "outputs": [
    {
     "data": {
      "text/plain": [
       "HER2 status\n",
       "Negative    288\n",
       "Positive     29\n",
       "Name: count, dtype: int64"
      ]
     },
     "execution_count": 137,
     "metadata": {},
     "output_type": "execute_result"
    }
   ],
   "source": [
    "df['HER2 status'].value_counts()"
   ]
  },
  {
   "cell_type": "markdown",
   "metadata": {},
   "source": [
    "### Now let’s have a look at the type of surgeries done to the patients:"
   ]
  },
  {
   "cell_type": "code",
   "execution_count": 138,
   "metadata": {},
   "outputs": [
    {
     "data": {
      "text/plain": [
       "Surgery_type\n",
       "Other                          97\n",
       "Modified Radical Mastectomy    89\n",
       "Lumpectomy                     66\n",
       "Simple Mastectomy              65\n",
       "Name: count, dtype: int64"
      ]
     },
     "execution_count": 138,
     "metadata": {},
     "output_type": "execute_result"
    }
   ],
   "source": [
    "df[\"Surgery_type\"].value_counts()"
   ]
  },
  {
   "cell_type": "code",
   "execution_count": 139,
   "metadata": {},
   "outputs": [
    {
     "data": {
      "image/png": "[encoded data removed]",
      "text/plain": [
       "<Figure size 600x500 with 1 Axes>"
      ]
     },
     "metadata": {},
     "output_type": "display_data"
    }
   ],
   "source": [
    "surgery =  df[\"Surgery_type\"].value_counts()\n",
    "transactions = df[\"Surgery_type\"].value_counts().index\n",
    "quantity = df[\"Surgery_type\"].value_counts().values\n",
    "\n",
    "plt.figure(figsize=(6,5))\n",
    "explode = (0.1,0.2,0.1,0.2)\n",
    "plt.title(\"Surgery Type\")\n",
    "plt.pie(surgery,labels=transactions,autopct='%1.1f%%',colors=['#ff9999','#66b3ff','#99ff99','#ffcc99'],explode=explode)\n",
    "plt.show()\n"
   ]
  },
  {
   "cell_type": "markdown",
   "metadata": {},
   "source": [
    "## Encoding"
   ]
  },
  {
   "cell_type": "code",
   "execution_count": 140,
   "metadata": {},
   "outputs": [],
   "source": [
    "from  sklearn.preprocessing import LabelEncoder"
   ]
  },
  {
   "cell_type": "code",
   "execution_count": 141,
   "metadata": {},
   "outputs": [],
   "source": [
    "encoder = LabelEncoder()\n",
    "columns = ['Gender','Tumour_Stage','Histology','ER status','PR status','HER2 status','Surgery_type']\n",
    "for i in columns:\n",
    "    df[i] = encoder.fit_transform(df[i])\n"
   ]
  },
  {
   "cell_type": "code",
   "execution_count": 142,
   "metadata": {},
   "outputs": [
    {
     "data": {
      "text/html": [
       "<div>\n",
       "<style scoped>\n",
       "    .dataframe tbody tr th:only-of-type {\n",
       "        vertical-align: middle;\n",
       "    }\n",
       "\n",
       "    .dataframe tbody tr th {\n",
       "        vertical-align: top;\n",
       "    }\n",
       "\n",
       "    .dataframe thead th {\n",
       "        text-align: right;\n",
       "    }\n",
       "</style>\n",
       "<table border=\"1\" class=\"dataframe\">\n",
       "  <thead>\n",
       "    <tr style=\"text-align: right;\">\n",
       "      <th></th>\n",
       "      <th>Age</th>\n",
       "      <th>Gender</th>\n",
       "      <th>Protein1</th>\n",
       "      <th>Protein2</th>\n",
       "      <th>Protein3</th>\n",
       "      <th>Protein4</th>\n",
       "      <th>Tumour_Stage</th>\n",
       "      <th>Histology</th>\n",
       "      <th>ER status</th>\n",
       "      <th>PR status</th>\n",
       "      <th>HER2 status</th>\n",
       "      <th>Surgery_type</th>\n",
       "      <th>Date_of_Surgery</th>\n",
       "      <th>Date_of_Last_Visit</th>\n",
       "      <th>Patient_Status</th>\n",
       "    </tr>\n",
       "  </thead>\n",
       "  <tbody>\n",
       "    <tr>\n",
       "      <th>0</th>\n",
       "      <td>42</td>\n",
       "      <td>0</td>\n",
       "      <td>0.95256</td>\n",
       "      <td>2.15000</td>\n",
       "      <td>0.007972</td>\n",
       "      <td>-0.048340</td>\n",
       "      <td>1</td>\n",
       "      <td>0</td>\n",
       "      <td>0</td>\n",
       "      <td>0</td>\n",
       "      <td>0</td>\n",
       "      <td>2</td>\n",
       "      <td>20-May-18</td>\n",
       "      <td>26-Aug-18</td>\n",
       "      <td>Alive</td>\n",
       "    </tr>\n",
       "    <tr>\n",
       "      <th>1</th>\n",
       "      <td>54</td>\n",
       "      <td>0</td>\n",
       "      <td>0.00000</td>\n",
       "      <td>1.38020</td>\n",
       "      <td>-0.498030</td>\n",
       "      <td>-0.507320</td>\n",
       "      <td>1</td>\n",
       "      <td>0</td>\n",
       "      <td>0</td>\n",
       "      <td>0</td>\n",
       "      <td>0</td>\n",
       "      <td>2</td>\n",
       "      <td>26-Apr-18</td>\n",
       "      <td>25-Jan-19</td>\n",
       "      <td>Dead</td>\n",
       "    </tr>\n",
       "    <tr>\n",
       "      <th>2</th>\n",
       "      <td>63</td>\n",
       "      <td>0</td>\n",
       "      <td>-0.52303</td>\n",
       "      <td>1.76400</td>\n",
       "      <td>-0.370190</td>\n",
       "      <td>0.010815</td>\n",
       "      <td>1</td>\n",
       "      <td>0</td>\n",
       "      <td>0</td>\n",
       "      <td>0</td>\n",
       "      <td>0</td>\n",
       "      <td>0</td>\n",
       "      <td>24-Aug-18</td>\n",
       "      <td>08-Apr-20</td>\n",
       "      <td>Alive</td>\n",
       "    </tr>\n",
       "    <tr>\n",
       "      <th>3</th>\n",
       "      <td>78</td>\n",
       "      <td>0</td>\n",
       "      <td>-0.87618</td>\n",
       "      <td>0.12943</td>\n",
       "      <td>-0.370380</td>\n",
       "      <td>0.132190</td>\n",
       "      <td>0</td>\n",
       "      <td>0</td>\n",
       "      <td>0</td>\n",
       "      <td>0</td>\n",
       "      <td>0</td>\n",
       "      <td>2</td>\n",
       "      <td>16-Nov-18</td>\n",
       "      <td>28-Jul-20</td>\n",
       "      <td>Alive</td>\n",
       "    </tr>\n",
       "    <tr>\n",
       "      <th>4</th>\n",
       "      <td>42</td>\n",
       "      <td>0</td>\n",
       "      <td>0.22611</td>\n",
       "      <td>1.74910</td>\n",
       "      <td>-0.543970</td>\n",
       "      <td>-0.390210</td>\n",
       "      <td>1</td>\n",
       "      <td>0</td>\n",
       "      <td>0</td>\n",
       "      <td>0</td>\n",
       "      <td>1</td>\n",
       "      <td>0</td>\n",
       "      <td>12-Dec-18</td>\n",
       "      <td>05-Jan-19</td>\n",
       "      <td>Alive</td>\n",
       "    </tr>\n",
       "  </tbody>\n",
       "</table>\n",
       "</div>"
      ],
      "text/plain": [
       "   Age  Gender  Protein1  Protein2  Protein3  Protein4  Tumour_Stage  \\\n",
       "0   42       0   0.95256   2.15000  0.007972 -0.048340             1   \n",
       "1   54       0   0.00000   1.38020 -0.498030 -0.507320             1   \n",
       "2   63       0  -0.52303   1.76400 -0.370190  0.010815             1   \n",
       "3   78       0  -0.87618   0.12943 -0.370380  0.132190             0   \n",
       "4   42       0   0.22611   1.74910 -0.543970 -0.390210             1   \n",
       "\n",
       "   Histology  ER status  PR status  HER2 status  Surgery_type Date_of_Surgery  \\\n",
       "0          0          0          0            0             2       20-May-18   \n",
       "1          0          0          0            0             2       26-Apr-18   \n",
       "2          0          0          0            0             0       24-Aug-18   \n",
       "3          0          0          0            0             2       16-Nov-18   \n",
       "4          0          0          0            1             0       12-Dec-18   \n",
       "\n",
       "  Date_of_Last_Visit Patient_Status  \n",
       "0          26-Aug-18          Alive  \n",
       "1          25-Jan-19           Dead  \n",
       "2          08-Apr-20          Alive  \n",
       "3          28-Jul-20          Alive  \n",
       "4          05-Jan-19          Alive  "
      ]
     },
     "execution_count": 142,
     "metadata": {},
     "output_type": "execute_result"
    }
   ],
   "source": [
    "df.head()"
   ]
  },
  {
   "cell_type": "code",
   "execution_count": 143,
   "metadata": {},
   "outputs": [],
   "source": [
    "df = df.drop(columns=['ER status','PR status'])"
   ]
  },
  {
   "cell_type": "code",
   "execution_count": 144,
   "metadata": {},
   "outputs": [
    {
     "data": {
      "text/html": [
       "<div>\n",
       "<style scoped>\n",
       "    .dataframe tbody tr th:only-of-type {\n",
       "        vertical-align: middle;\n",
       "    }\n",
       "\n",
       "    .dataframe tbody tr th {\n",
       "        vertical-align: top;\n",
       "    }\n",
       "\n",
       "    .dataframe thead th {\n",
       "        text-align: right;\n",
       "    }\n",
       "</style>\n",
       "<table border=\"1\" class=\"dataframe\">\n",
       "  <thead>\n",
       "    <tr style=\"text-align: right;\">\n",
       "      <th></th>\n",
       "      <th>Age</th>\n",
       "      <th>Gender</th>\n",
       "      <th>Protein1</th>\n",
       "      <th>Protein2</th>\n",
       "      <th>Protein3</th>\n",
       "      <th>Protein4</th>\n",
       "      <th>Tumour_Stage</th>\n",
       "      <th>Histology</th>\n",
       "      <th>HER2 status</th>\n",
       "      <th>Surgery_type</th>\n",
       "      <th>Date_of_Surgery</th>\n",
       "      <th>Date_of_Last_Visit</th>\n",
       "      <th>Patient_Status</th>\n",
       "    </tr>\n",
       "  </thead>\n",
       "  <tbody>\n",
       "    <tr>\n",
       "      <th>0</th>\n",
       "      <td>42</td>\n",
       "      <td>0</td>\n",
       "      <td>0.95256</td>\n",
       "      <td>2.15000</td>\n",
       "      <td>0.007972</td>\n",
       "      <td>-0.048340</td>\n",
       "      <td>1</td>\n",
       "      <td>0</td>\n",
       "      <td>0</td>\n",
       "      <td>2</td>\n",
       "      <td>20-May-18</td>\n",
       "      <td>26-Aug-18</td>\n",
       "      <td>Alive</td>\n",
       "    </tr>\n",
       "    <tr>\n",
       "      <th>1</th>\n",
       "      <td>54</td>\n",
       "      <td>0</td>\n",
       "      <td>0.00000</td>\n",
       "      <td>1.38020</td>\n",
       "      <td>-0.498030</td>\n",
       "      <td>-0.507320</td>\n",
       "      <td>1</td>\n",
       "      <td>0</td>\n",
       "      <td>0</td>\n",
       "      <td>2</td>\n",
       "      <td>26-Apr-18</td>\n",
       "      <td>25-Jan-19</td>\n",
       "      <td>Dead</td>\n",
       "    </tr>\n",
       "    <tr>\n",
       "      <th>2</th>\n",
       "      <td>63</td>\n",
       "      <td>0</td>\n",
       "      <td>-0.52303</td>\n",
       "      <td>1.76400</td>\n",
       "      <td>-0.370190</td>\n",
       "      <td>0.010815</td>\n",
       "      <td>1</td>\n",
       "      <td>0</td>\n",
       "      <td>0</td>\n",
       "      <td>0</td>\n",
       "      <td>24-Aug-18</td>\n",
       "      <td>08-Apr-20</td>\n",
       "      <td>Alive</td>\n",
       "    </tr>\n",
       "    <tr>\n",
       "      <th>3</th>\n",
       "      <td>78</td>\n",
       "      <td>0</td>\n",
       "      <td>-0.87618</td>\n",
       "      <td>0.12943</td>\n",
       "      <td>-0.370380</td>\n",
       "      <td>0.132190</td>\n",
       "      <td>0</td>\n",
       "      <td>0</td>\n",
       "      <td>0</td>\n",
       "      <td>2</td>\n",
       "      <td>16-Nov-18</td>\n",
       "      <td>28-Jul-20</td>\n",
       "      <td>Alive</td>\n",
       "    </tr>\n",
       "    <tr>\n",
       "      <th>4</th>\n",
       "      <td>42</td>\n",
       "      <td>0</td>\n",
       "      <td>0.22611</td>\n",
       "      <td>1.74910</td>\n",
       "      <td>-0.543970</td>\n",
       "      <td>-0.390210</td>\n",
       "      <td>1</td>\n",
       "      <td>0</td>\n",
       "      <td>1</td>\n",
       "      <td>0</td>\n",
       "      <td>12-Dec-18</td>\n",
       "      <td>05-Jan-19</td>\n",
       "      <td>Alive</td>\n",
       "    </tr>\n",
       "  </tbody>\n",
       "</table>\n",
       "</div>"
      ],
      "text/plain": [
       "   Age  Gender  Protein1  Protein2  Protein3  Protein4  Tumour_Stage  \\\n",
       "0   42       0   0.95256   2.15000  0.007972 -0.048340             1   \n",
       "1   54       0   0.00000   1.38020 -0.498030 -0.507320             1   \n",
       "2   63       0  -0.52303   1.76400 -0.370190  0.010815             1   \n",
       "3   78       0  -0.87618   0.12943 -0.370380  0.132190             0   \n",
       "4   42       0   0.22611   1.74910 -0.543970 -0.390210             1   \n",
       "\n",
       "   Histology  HER2 status  Surgery_type Date_of_Surgery Date_of_Last_Visit  \\\n",
       "0          0            0             2       20-May-18          26-Aug-18   \n",
       "1          0            0             2       26-Apr-18          25-Jan-19   \n",
       "2          0            0             0       24-Aug-18          08-Apr-20   \n",
       "3          0            0             2       16-Nov-18          28-Jul-20   \n",
       "4          0            1             0       12-Dec-18          05-Jan-19   \n",
       "\n",
       "  Patient_Status  \n",
       "0          Alive  \n",
       "1           Dead  \n",
       "2          Alive  \n",
       "3          Alive  \n",
       "4          Alive  "
      ]
     },
     "execution_count": 144,
     "metadata": {},
     "output_type": "execute_result"
    }
   ],
   "source": [
    "df.head()"
   ]
  },
  {
   "cell_type": "code",
   "execution_count": 147,
   "metadata": {},
   "outputs": [],
   "source": [
    "df = df.drop(columns=['Patient_Status','Date_of_Surgery','Date_of_Last_Visit'])"
   ]
  },
  {
   "cell_type": "code",
   "execution_count": 148,
   "metadata": {},
   "outputs": [
    {
     "data": {
      "text/html": [
       "<div>\n",
       "<style scoped>\n",
       "    .dataframe tbody tr th:only-of-type {\n",
       "        vertical-align: middle;\n",
       "    }\n",
       "\n",
       "    .dataframe tbody tr th {\n",
       "        vertical-align: top;\n",
       "    }\n",
       "\n",
       "    .dataframe thead th {\n",
       "        text-align: right;\n",
       "    }\n",
       "</style>\n",
       "<table border=\"1\" class=\"dataframe\">\n",
       "  <thead>\n",
       "    <tr style=\"text-align: right;\">\n",
       "      <th></th>\n",
       "      <th>Age</th>\n",
       "      <th>Gender</th>\n",
       "      <th>Protein1</th>\n",
       "      <th>Protein2</th>\n",
       "      <th>Protein3</th>\n",
       "      <th>Protein4</th>\n",
       "      <th>Tumour_Stage</th>\n",
       "      <th>Histology</th>\n",
       "      <th>HER2 status</th>\n",
       "      <th>Surgery_type</th>\n",
       "    </tr>\n",
       "  </thead>\n",
       "  <tbody>\n",
       "    <tr>\n",
       "      <th>0</th>\n",
       "      <td>42</td>\n",
       "      <td>0</td>\n",
       "      <td>0.95256</td>\n",
       "      <td>2.15000</td>\n",
       "      <td>0.007972</td>\n",
       "      <td>-0.048340</td>\n",
       "      <td>1</td>\n",
       "      <td>0</td>\n",
       "      <td>0</td>\n",
       "      <td>2</td>\n",
       "    </tr>\n",
       "    <tr>\n",
       "      <th>1</th>\n",
       "      <td>54</td>\n",
       "      <td>0</td>\n",
       "      <td>0.00000</td>\n",
       "      <td>1.38020</td>\n",
       "      <td>-0.498030</td>\n",
       "      <td>-0.507320</td>\n",
       "      <td>1</td>\n",
       "      <td>0</td>\n",
       "      <td>0</td>\n",
       "      <td>2</td>\n",
       "    </tr>\n",
       "    <tr>\n",
       "      <th>2</th>\n",
       "      <td>63</td>\n",
       "      <td>0</td>\n",
       "      <td>-0.52303</td>\n",
       "      <td>1.76400</td>\n",
       "      <td>-0.370190</td>\n",
       "      <td>0.010815</td>\n",
       "      <td>1</td>\n",
       "      <td>0</td>\n",
       "      <td>0</td>\n",
       "      <td>0</td>\n",
       "    </tr>\n",
       "    <tr>\n",
       "      <th>3</th>\n",
       "      <td>78</td>\n",
       "      <td>0</td>\n",
       "      <td>-0.87618</td>\n",
       "      <td>0.12943</td>\n",
       "      <td>-0.370380</td>\n",
       "      <td>0.132190</td>\n",
       "      <td>0</td>\n",
       "      <td>0</td>\n",
       "      <td>0</td>\n",
       "      <td>2</td>\n",
       "    </tr>\n",
       "    <tr>\n",
       "      <th>4</th>\n",
       "      <td>42</td>\n",
       "      <td>0</td>\n",
       "      <td>0.22611</td>\n",
       "      <td>1.74910</td>\n",
       "      <td>-0.543970</td>\n",
       "      <td>-0.390210</td>\n",
       "      <td>1</td>\n",
       "      <td>0</td>\n",
       "      <td>1</td>\n",
       "      <td>0</td>\n",
       "    </tr>\n",
       "  </tbody>\n",
       "</table>\n",
       "</div>"
      ],
      "text/plain": [
       "   Age  Gender  Protein1  Protein2  Protein3  Protein4  Tumour_Stage  \\\n",
       "0   42       0   0.95256   2.15000  0.007972 -0.048340             1   \n",
       "1   54       0   0.00000   1.38020 -0.498030 -0.507320             1   \n",
       "2   63       0  -0.52303   1.76400 -0.370190  0.010815             1   \n",
       "3   78       0  -0.87618   0.12943 -0.370380  0.132190             0   \n",
       "4   42       0   0.22611   1.74910 -0.543970 -0.390210             1   \n",
       "\n",
       "   Histology  HER2 status  Surgery_type  \n",
       "0          0            0             2  \n",
       "1          0            0             2  \n",
       "2          0            0             0  \n",
       "3          0            0             2  \n",
       "4          0            1             0  "
      ]
     },
     "execution_count": 148,
     "metadata": {},
     "output_type": "execute_result"
    }
   ],
   "source": [
    "df.head()"
   ]
  },
  {
   "cell_type": "code",
   "execution_count": 149,
   "metadata": {},
   "outputs": [
    {
     "data": {
      "text/html": [
       "<div>\n",
       "<style scoped>\n",
       "    .dataframe tbody tr th:only-of-type {\n",
       "        vertical-align: middle;\n",
       "    }\n",
       "\n",
       "    .dataframe tbody tr th {\n",
       "        vertical-align: top;\n",
       "    }\n",
       "\n",
       "    .dataframe thead th {\n",
       "        text-align: right;\n",
       "    }\n",
       "</style>\n",
       "<table border=\"1\" class=\"dataframe\">\n",
       "  <thead>\n",
       "    <tr style=\"text-align: right;\">\n",
       "      <th></th>\n",
       "      <th>Age</th>\n",
       "      <th>Gender</th>\n",
       "      <th>Protein1</th>\n",
       "      <th>Protein2</th>\n",
       "      <th>Protein3</th>\n",
       "      <th>Protein4</th>\n",
       "      <th>Tumour_Stage</th>\n",
       "      <th>Histology</th>\n",
       "      <th>HER2 status</th>\n",
       "      <th>Surgery_type</th>\n",
       "    </tr>\n",
       "  </thead>\n",
       "  <tbody>\n",
       "    <tr>\n",
       "      <th>Age</th>\n",
       "      <td>1.000000</td>\n",
       "      <td>0.026696</td>\n",
       "      <td>-0.044541</td>\n",
       "      <td>-0.011387</td>\n",
       "      <td>-0.047362</td>\n",
       "      <td>0.095417</td>\n",
       "      <td>-0.144483</td>\n",
       "      <td>-0.107611</td>\n",
       "      <td>-0.068386</td>\n",
       "      <td>-0.034617</td>\n",
       "    </tr>\n",
       "    <tr>\n",
       "      <th>Gender</th>\n",
       "      <td>0.026696</td>\n",
       "      <td>1.000000</td>\n",
       "      <td>0.159685</td>\n",
       "      <td>0.000406</td>\n",
       "      <td>-0.017109</td>\n",
       "      <td>-0.014185</td>\n",
       "      <td>0.033881</td>\n",
       "      <td>0.034995</td>\n",
       "      <td>-0.035872</td>\n",
       "      <td>0.026380</td>\n",
       "    </tr>\n",
       "    <tr>\n",
       "      <th>Protein1</th>\n",
       "      <td>-0.044541</td>\n",
       "      <td>0.159685</td>\n",
       "      <td>1.000000</td>\n",
       "      <td>0.223093</td>\n",
       "      <td>-0.103046</td>\n",
       "      <td>0.259171</td>\n",
       "      <td>-0.051447</td>\n",
       "      <td>0.066462</td>\n",
       "      <td>-0.033544</td>\n",
       "      <td>-0.127882</td>\n",
       "    </tr>\n",
       "    <tr>\n",
       "      <th>Protein2</th>\n",
       "      <td>-0.011387</td>\n",
       "      <td>0.000406</td>\n",
       "      <td>0.223093</td>\n",
       "      <td>1.000000</td>\n",
       "      <td>-0.407670</td>\n",
       "      <td>0.084939</td>\n",
       "      <td>-0.049881</td>\n",
       "      <td>0.013074</td>\n",
       "      <td>-0.013568</td>\n",
       "      <td>-0.045292</td>\n",
       "    </tr>\n",
       "    <tr>\n",
       "      <th>Protein3</th>\n",
       "      <td>-0.047362</td>\n",
       "      <td>-0.017109</td>\n",
       "      <td>-0.103046</td>\n",
       "      <td>-0.407670</td>\n",
       "      <td>1.000000</td>\n",
       "      <td>0.076759</td>\n",
       "      <td>0.019770</td>\n",
       "      <td>-0.022359</td>\n",
       "      <td>-0.017628</td>\n",
       "      <td>-0.059958</td>\n",
       "    </tr>\n",
       "    <tr>\n",
       "      <th>Protein4</th>\n",
       "      <td>0.095417</td>\n",
       "      <td>-0.014185</td>\n",
       "      <td>0.259171</td>\n",
       "      <td>0.084939</td>\n",
       "      <td>0.076759</td>\n",
       "      <td>1.000000</td>\n",
       "      <td>-0.050364</td>\n",
       "      <td>0.016289</td>\n",
       "      <td>0.004728</td>\n",
       "      <td>-0.113382</td>\n",
       "    </tr>\n",
       "    <tr>\n",
       "      <th>Tumour_Stage</th>\n",
       "      <td>-0.144483</td>\n",
       "      <td>0.033881</td>\n",
       "      <td>-0.051447</td>\n",
       "      <td>-0.049881</td>\n",
       "      <td>0.019770</td>\n",
       "      <td>-0.050364</td>\n",
       "      <td>1.000000</td>\n",
       "      <td>-0.014403</td>\n",
       "      <td>0.141031</td>\n",
       "      <td>0.010979</td>\n",
       "    </tr>\n",
       "    <tr>\n",
       "      <th>Histology</th>\n",
       "      <td>-0.107611</td>\n",
       "      <td>0.034995</td>\n",
       "      <td>0.066462</td>\n",
       "      <td>0.013074</td>\n",
       "      <td>-0.022359</td>\n",
       "      <td>0.016289</td>\n",
       "      <td>-0.014403</td>\n",
       "      <td>1.000000</td>\n",
       "      <td>-0.012156</td>\n",
       "      <td>-0.052023</td>\n",
       "    </tr>\n",
       "    <tr>\n",
       "      <th>HER2 status</th>\n",
       "      <td>-0.068386</td>\n",
       "      <td>-0.035872</td>\n",
       "      <td>-0.033544</td>\n",
       "      <td>-0.013568</td>\n",
       "      <td>-0.017628</td>\n",
       "      <td>0.004728</td>\n",
       "      <td>0.141031</td>\n",
       "      <td>-0.012156</td>\n",
       "      <td>1.000000</td>\n",
       "      <td>-0.092058</td>\n",
       "    </tr>\n",
       "    <tr>\n",
       "      <th>Surgery_type</th>\n",
       "      <td>-0.034617</td>\n",
       "      <td>0.026380</td>\n",
       "      <td>-0.127882</td>\n",
       "      <td>-0.045292</td>\n",
       "      <td>-0.059958</td>\n",
       "      <td>-0.113382</td>\n",
       "      <td>0.010979</td>\n",
       "      <td>-0.052023</td>\n",
       "      <td>-0.092058</td>\n",
       "      <td>1.000000</td>\n",
       "    </tr>\n",
       "  </tbody>\n",
       "</table>\n",
       "</div>"
      ],
      "text/plain": [
       "                   Age    Gender  Protein1  Protein2  Protein3  Protein4  \\\n",
       "Age           1.000000  0.026696 -0.044541 -0.011387 -0.047362  0.095417   \n",
       "Gender        0.026696  1.000000  0.159685  0.000406 -0.017109 -0.014185   \n",
       "Protein1     -0.044541  0.159685  1.000000  0.223093 -0.103046  0.259171   \n",
       "Protein2     -0.011387  0.000406  0.223093  1.000000 -0.407670  0.084939   \n",
       "Protein3     -0.047362 -0.017109 -0.103046 -0.407670  1.000000  0.076759   \n",
       "Protein4      0.095417 -0.014185  0.259171  0.084939  0.076759  1.000000   \n",
       "Tumour_Stage -0.144483  0.033881 -0.051447 -0.049881  0.019770 -0.050364   \n",
       "Histology    -0.107611  0.034995  0.066462  0.013074 -0.022359  0.016289   \n",
       "HER2 status  -0.068386 -0.035872 -0.033544 -0.013568 -0.017628  0.004728   \n",
       "Surgery_type -0.034617  0.026380 -0.127882 -0.045292 -0.059958 -0.113382   \n",
       "\n",
       "              Tumour_Stage  Histology  HER2 status  Surgery_type  \n",
       "Age              -0.144483  -0.107611    -0.068386     -0.034617  \n",
       "Gender            0.033881   0.034995    -0.035872      0.026380  \n",
       "Protein1         -0.051447   0.066462    -0.033544     -0.127882  \n",
       "Protein2         -0.049881   0.013074    -0.013568     -0.045292  \n",
       "Protein3          0.019770  -0.022359    -0.017628     -0.059958  \n",
       "Protein4         -0.050364   0.016289     0.004728     -0.113382  \n",
       "Tumour_Stage      1.000000  -0.014403     0.141031      0.010979  \n",
       "Histology        -0.014403   1.000000    -0.012156     -0.052023  \n",
       "HER2 status       0.141031  -0.012156     1.000000     -0.092058  \n",
       "Surgery_type      0.010979  -0.052023    -0.092058      1.000000  "
      ]
     },
     "execution_count": 149,
     "metadata": {},
     "output_type": "execute_result"
    }
   ],
   "source": [
    "df.corr()"
   ]
  },
  {
   "cell_type": "code",
   "execution_count": 153,
   "metadata": {},
   "outputs": [
    {
     "data": {
      "text/plain": [
       "<Axes: >"
      ]
     },
     "execution_count": 153,
     "metadata": {},
     "output_type": "execute_result"
    },
    {
     "data": {
      "image/png": "[encoded data removed]",
      "text/plain": [
       "<Figure size 1000x1000 with 2 Axes>"
      ]
     },
     "metadata": {},
     "output_type": "display_data"
    }
   ],
   "source": [
    "plt.figure(figsize=(10,10))\n",
    "sns.heatmap(df.corr(),annot=True)"
   ]
  },
  {
   "cell_type": "markdown",
   "metadata": {},
   "source": [
    "## Predictions"
   ]
  },
  {
   "cell_type": "code",
   "execution_count": 198,
   "metadata": {},
   "outputs": [],
   "source": [
    "X = df\n",
    "df2 = pd.read_csv('breast_cancer_survival.csv')\n",
    "df2.dropna(inplace=True)\n",
    "y = encoder.fit_transform(df2['Patient_Status'])\n"
   ]
  },
  {
   "cell_type": "code",
   "execution_count": 168,
   "metadata": {},
   "outputs": [],
   "source": [
    "from sklearn.model_selection import train_test_split\n",
    "X_train,X_test,y_train,y_test =  train_test_split(X,y,test_size=0.2,random_state=42)"
   ]
  },
  {
   "cell_type": "code",
   "execution_count": 182,
   "metadata": {},
   "outputs": [
    {
     "data": {
      "image/png": "[encoded data removed]",
      "text/plain": [
       "<Figure size 1000x500 with 1 Axes>"
      ]
     },
     "metadata": {},
     "output_type": "display_data"
    }
   ],
   "source": [
    "## Elbow Method KNN\n",
    "from sklearn.neighbors import KNeighborsClassifier as KNN\n",
    "from sklearn.model_selection import cross_val_score\n",
    "error_rate = []\n",
    "for i in range(1,11):\n",
    "    knn = KNN(n_neighbors=i)\n",
    "    score = cross_val_score(knn, X_train, y_train, cv=10)\n",
    "    error_rate.append(1-score.mean())\n",
    "    \n",
    "\n",
    "plt.figure(figsize=(10,5))\n",
    "plt.plot(range(1,11),error_rate,marker='o',linestyle='--',color='g',markerfacecolor='r')\n",
    "plt.title('Elbow Method')\n",
    "plt.xlabel('Number of clusters')\n",
    "plt.ylabel('WCSS')\n",
    "plt.show()"
   ]
  },
  {
   "cell_type": "code",
   "execution_count": 170,
   "metadata": {},
   "outputs": [],
   "source": [
    "#checking for various algorithms\n",
    "from sklearn.linear_model import LogisticRegression\n",
    "from sklearn.tree import DecisionTreeClassifier\n",
    "from sklearn.ensemble import RandomForestClassifier\n",
    "from sklearn.svm import SVC\n",
    "from sklearn.naive_bayes import GaussianNB"
   ]
  },
  {
   "cell_type": "code",
   "execution_count": 187,
   "metadata": {},
   "outputs": [],
   "source": [
    "clf1 = LogisticRegression()\n",
    "clf2 = DecisionTreeClassifier()\n",
    "clf3 = RandomForestClassifier()\n",
    "clf4 = SVC()\n",
    "clf5 = GaussianNB()\n",
    "clf6 = KNN(n_neighbors=4)"
   ]
  },
  {
   "cell_type": "code",
   "execution_count": 188,
   "metadata": {},
   "outputs": [],
   "source": [
    "models = [clf1,clf2,clf3,clf4,clf5,clf6]\n",
    "accuracy = {}\n",
    "for i in models:\n",
    "    i.fit(X_train,y_train)\n",
    "    accuracy[i] = i.score(X_test,y_test)"
   ]
  },
  {
   "cell_type": "code",
   "execution_count": 189,
   "metadata": {},
   "outputs": [
    {
     "data": {
      "text/plain": [
       "{LogisticRegression(): 0.796875,\n",
       " DecisionTreeClassifier(): 0.640625,\n",
       " RandomForestClassifier(): 0.796875,\n",
       " SVC(): 0.796875,\n",
       " GaussianNB(): 0.765625,\n",
       " KNeighborsClassifier(n_neighbors=4): 0.765625}"
      ]
     },
     "execution_count": 189,
     "metadata": {},
     "output_type": "execute_result"
    }
   ],
   "source": [
    "accuracy"
   ]
  },
  {
   "cell_type": "code",
   "execution_count": 216,
   "metadata": {},
   "outputs": [
    {
     "name": "stdout",
     "output_type": "stream",
     "text": [
      "Patient is Alive\n"
     ]
    }
   ],
   "source": [
    "features = np.array([[42.0, 0.95, 0.0, 1.32638, -0.498415, -0.543680, 3, 0, 0, 2]])\n",
    "if clf1.predict(features) == 1:\n",
    "    print(\"Patient is Dead\")\n",
    "else:\n",
    "    print(\"Patient is Alive\")\n"
   ]
  }
 ],
 "metadata": {
  "kernelspec": {
   "display_name": "tensorflow",
   "language": "python",
   "name": "python3"
  },
  "language_info": {
   "codemirror_mode": {
    "name": "ipython",
    "version": 3
   },
   "file_extension": ".py",
   "mimetype": "text/x-python",
   "name": "python",
   "nbconvert_exporter": "python",
   "pygments_lexer": "ipython3",
   "version": "3.11.5"
  }
 },
 "nbformat": 4,
 "nbformat_minor": 2
}
