{
 "cells": [
  {
   "cell_type": "markdown",
   "metadata": {},
   "source": [
    "## Medical Insurance Premium Prediction"
   ]
  },
  {
   "cell_type": "code",
   "execution_count": 9,
   "metadata": {},
   "outputs": [],
   "source": [
    "import pandas as pd\n",
    "import numpy as np\n",
    "import matplotlib.pyplot as plt\n",
    "import seaborn as sns\n",
    "import warnings\n",
    "ignore = warnings.filterwarnings('ignore')\n",
    "sns.set_theme(style='darkgrid')\n"
   ]
  },
  {
   "cell_type": "code",
   "execution_count": 5,
   "metadata": {},
   "outputs": [
    {
     "data": {
      "text/html": [
       "<div>\n",
       "<style scoped>\n",
       "    .dataframe tbody tr th:only-of-type {\n",
       "        vertical-align: middle;\n",
       "    }\n",
       "\n",
       "    .dataframe tbody tr th {\n",
       "        vertical-align: top;\n",
       "    }\n",
       "\n",
       "    .dataframe thead th {\n",
       "        text-align: right;\n",
       "    }\n",
       "</style>\n",
       "<table border=\"1\" class=\"dataframe\">\n",
       "  <thead>\n",
       "    <tr style=\"text-align: right;\">\n",
       "      <th></th>\n",
       "      <th>Age</th>\n",
       "      <th>Diabetes</th>\n",
       "      <th>BloodPressureProblems</th>\n",
       "      <th>AnyTransplants</th>\n",
       "      <th>AnyChronicDiseases</th>\n",
       "      <th>Height</th>\n",
       "      <th>Weight</th>\n",
       "      <th>KnownAllergies</th>\n",
       "      <th>HistoryOfCancerInFamily</th>\n",
       "      <th>NumberOfMajorSurgeries</th>\n",
       "      <th>PremiumPrice</th>\n",
       "    </tr>\n",
       "  </thead>\n",
       "  <tbody>\n",
       "    <tr>\n",
       "      <th>0</th>\n",
       "      <td>45</td>\n",
       "      <td>0</td>\n",
       "      <td>0</td>\n",
       "      <td>0</td>\n",
       "      <td>0</td>\n",
       "      <td>155</td>\n",
       "      <td>57</td>\n",
       "      <td>0</td>\n",
       "      <td>0</td>\n",
       "      <td>0</td>\n",
       "      <td>25000</td>\n",
       "    </tr>\n",
       "    <tr>\n",
       "      <th>1</th>\n",
       "      <td>60</td>\n",
       "      <td>1</td>\n",
       "      <td>0</td>\n",
       "      <td>0</td>\n",
       "      <td>0</td>\n",
       "      <td>180</td>\n",
       "      <td>73</td>\n",
       "      <td>0</td>\n",
       "      <td>0</td>\n",
       "      <td>0</td>\n",
       "      <td>29000</td>\n",
       "    </tr>\n",
       "    <tr>\n",
       "      <th>2</th>\n",
       "      <td>36</td>\n",
       "      <td>1</td>\n",
       "      <td>1</td>\n",
       "      <td>0</td>\n",
       "      <td>0</td>\n",
       "      <td>158</td>\n",
       "      <td>59</td>\n",
       "      <td>0</td>\n",
       "      <td>0</td>\n",
       "      <td>1</td>\n",
       "      <td>23000</td>\n",
       "    </tr>\n",
       "    <tr>\n",
       "      <th>3</th>\n",
       "      <td>52</td>\n",
       "      <td>1</td>\n",
       "      <td>1</td>\n",
       "      <td>0</td>\n",
       "      <td>1</td>\n",
       "      <td>183</td>\n",
       "      <td>93</td>\n",
       "      <td>0</td>\n",
       "      <td>0</td>\n",
       "      <td>2</td>\n",
       "      <td>28000</td>\n",
       "    </tr>\n",
       "    <tr>\n",
       "      <th>4</th>\n",
       "      <td>38</td>\n",
       "      <td>0</td>\n",
       "      <td>0</td>\n",
       "      <td>0</td>\n",
       "      <td>1</td>\n",
       "      <td>166</td>\n",
       "      <td>88</td>\n",
       "      <td>0</td>\n",
       "      <td>0</td>\n",
       "      <td>1</td>\n",
       "      <td>23000</td>\n",
       "    </tr>\n",
       "  </tbody>\n",
       "</table>\n",
       "</div>"
      ],
      "text/plain": [
       "   Age  Diabetes  BloodPressureProblems  AnyTransplants  AnyChronicDiseases  \\\n",
       "0   45         0                      0               0                   0   \n",
       "1   60         1                      0               0                   0   \n",
       "2   36         1                      1               0                   0   \n",
       "3   52         1                      1               0                   1   \n",
       "4   38         0                      0               0                   1   \n",
       "\n",
       "   Height  Weight  KnownAllergies  HistoryOfCancerInFamily  \\\n",
       "0     155      57               0                        0   \n",
       "1     180      73               0                        0   \n",
       "2     158      59               0                        0   \n",
       "3     183      93               0                        0   \n",
       "4     166      88               0                        0   \n",
       "\n",
       "   NumberOfMajorSurgeries  PremiumPrice  \n",
       "0                       0         25000  \n",
       "1                       0         29000  \n",
       "2                       1         23000  \n",
       "3                       2         28000  \n",
       "4                       1         23000  "
      ]
     },
     "execution_count": 5,
     "metadata": {},
     "output_type": "execute_result"
    }
   ],
   "source": [
    "df = pd.read_csv('Medicalpremium.csv')\n",
    "df.head()"
   ]
  },
  {
   "cell_type": "code",
   "execution_count": 6,
   "metadata": {},
   "outputs": [
    {
     "data": {
      "text/plain": [
       "Age                        0\n",
       "Diabetes                   0\n",
       "BloodPressureProblems      0\n",
       "AnyTransplants             0\n",
       "AnyChronicDiseases         0\n",
       "Height                     0\n",
       "Weight                     0\n",
       "KnownAllergies             0\n",
       "HistoryOfCancerInFamily    0\n",
       "NumberOfMajorSurgeries     0\n",
       "PremiumPrice               0\n",
       "dtype: int64"
      ]
     },
     "execution_count": 6,
     "metadata": {},
     "output_type": "execute_result"
    }
   ],
   "source": [
    "df.isnull().sum()"
   ]
  },
  {
   "cell_type": "code",
   "execution_count": 7,
   "metadata": {},
   "outputs": [
    {
     "name": "stdout",
     "output_type": "stream",
     "text": [
      "<class 'pandas.core.frame.DataFrame'>\n",
      "RangeIndex: 986 entries, 0 to 985\n",
      "Data columns (total 11 columns):\n",
      " #   Column                   Non-Null Count  Dtype\n",
      "---  ------                   --------------  -----\n",
      " 0   Age                      986 non-null    int64\n",
      " 1   Diabetes                 986 non-null    int64\n",
      " 2   BloodPressureProblems    986 non-null    int64\n",
      " 3   AnyTransplants           986 non-null    int64\n",
      " 4   AnyChronicDiseases       986 non-null    int64\n",
      " 5   Height                   986 non-null    int64\n",
      " 6   Weight                   986 non-null    int64\n",
      " 7   KnownAllergies           986 non-null    int64\n",
      " 8   HistoryOfCancerInFamily  986 non-null    int64\n",
      " 9   NumberOfMajorSurgeries   986 non-null    int64\n",
      " 10  PremiumPrice             986 non-null    int64\n",
      "dtypes: int64(11)\n",
      "memory usage: 84.9 KB\n"
     ]
    }
   ],
   "source": [
    "df.info()"
   ]
  },
  {
   "cell_type": "code",
   "execution_count": 8,
   "metadata": {},
   "outputs": [
    {
     "data": {
      "text/html": [
       "<div>\n",
       "<style scoped>\n",
       "    .dataframe tbody tr th:only-of-type {\n",
       "        vertical-align: middle;\n",
       "    }\n",
       "\n",
       "    .dataframe tbody tr th {\n",
       "        vertical-align: top;\n",
       "    }\n",
       "\n",
       "    .dataframe thead th {\n",
       "        text-align: right;\n",
       "    }\n",
       "</style>\n",
       "<table border=\"1\" class=\"dataframe\">\n",
       "  <thead>\n",
       "    <tr style=\"text-align: right;\">\n",
       "      <th></th>\n",
       "      <th>Age</th>\n",
       "      <th>Diabetes</th>\n",
       "      <th>BloodPressureProblems</th>\n",
       "      <th>AnyTransplants</th>\n",
       "      <th>AnyChronicDiseases</th>\n",
       "      <th>Height</th>\n",
       "      <th>Weight</th>\n",
       "      <th>KnownAllergies</th>\n",
       "      <th>HistoryOfCancerInFamily</th>\n",
       "      <th>NumberOfMajorSurgeries</th>\n",
       "      <th>PremiumPrice</th>\n",
       "    </tr>\n",
       "  </thead>\n",
       "  <tbody>\n",
       "    <tr>\n",
       "      <th>count</th>\n",
       "      <td>986.000000</td>\n",
       "      <td>986.000000</td>\n",
       "      <td>986.000000</td>\n",
       "      <td>986.000000</td>\n",
       "      <td>986.000000</td>\n",
       "      <td>986.000000</td>\n",
       "      <td>986.000000</td>\n",
       "      <td>986.000000</td>\n",
       "      <td>986.000000</td>\n",
       "      <td>986.000000</td>\n",
       "      <td>986.000000</td>\n",
       "    </tr>\n",
       "    <tr>\n",
       "      <th>mean</th>\n",
       "      <td>41.745436</td>\n",
       "      <td>0.419878</td>\n",
       "      <td>0.468560</td>\n",
       "      <td>0.055781</td>\n",
       "      <td>0.180527</td>\n",
       "      <td>168.182556</td>\n",
       "      <td>76.950304</td>\n",
       "      <td>0.215010</td>\n",
       "      <td>0.117647</td>\n",
       "      <td>0.667343</td>\n",
       "      <td>24336.713996</td>\n",
       "    </tr>\n",
       "    <tr>\n",
       "      <th>std</th>\n",
       "      <td>13.963371</td>\n",
       "      <td>0.493789</td>\n",
       "      <td>0.499264</td>\n",
       "      <td>0.229615</td>\n",
       "      <td>0.384821</td>\n",
       "      <td>10.098155</td>\n",
       "      <td>14.265096</td>\n",
       "      <td>0.411038</td>\n",
       "      <td>0.322353</td>\n",
       "      <td>0.749205</td>\n",
       "      <td>6248.184382</td>\n",
       "    </tr>\n",
       "    <tr>\n",
       "      <th>min</th>\n",
       "      <td>18.000000</td>\n",
       "      <td>0.000000</td>\n",
       "      <td>0.000000</td>\n",
       "      <td>0.000000</td>\n",
       "      <td>0.000000</td>\n",
       "      <td>145.000000</td>\n",
       "      <td>51.000000</td>\n",
       "      <td>0.000000</td>\n",
       "      <td>0.000000</td>\n",
       "      <td>0.000000</td>\n",
       "      <td>15000.000000</td>\n",
       "    </tr>\n",
       "    <tr>\n",
       "      <th>25%</th>\n",
       "      <td>30.000000</td>\n",
       "      <td>0.000000</td>\n",
       "      <td>0.000000</td>\n",
       "      <td>0.000000</td>\n",
       "      <td>0.000000</td>\n",
       "      <td>161.000000</td>\n",
       "      <td>67.000000</td>\n",
       "      <td>0.000000</td>\n",
       "      <td>0.000000</td>\n",
       "      <td>0.000000</td>\n",
       "      <td>21000.000000</td>\n",
       "    </tr>\n",
       "    <tr>\n",
       "      <th>50%</th>\n",
       "      <td>42.000000</td>\n",
       "      <td>0.000000</td>\n",
       "      <td>0.000000</td>\n",
       "      <td>0.000000</td>\n",
       "      <td>0.000000</td>\n",
       "      <td>168.000000</td>\n",
       "      <td>75.000000</td>\n",
       "      <td>0.000000</td>\n",
       "      <td>0.000000</td>\n",
       "      <td>1.000000</td>\n",
       "      <td>23000.000000</td>\n",
       "    </tr>\n",
       "    <tr>\n",
       "      <th>75%</th>\n",
       "      <td>53.000000</td>\n",
       "      <td>1.000000</td>\n",
       "      <td>1.000000</td>\n",
       "      <td>0.000000</td>\n",
       "      <td>0.000000</td>\n",
       "      <td>176.000000</td>\n",
       "      <td>87.000000</td>\n",
       "      <td>0.000000</td>\n",
       "      <td>0.000000</td>\n",
       "      <td>1.000000</td>\n",
       "      <td>28000.000000</td>\n",
       "    </tr>\n",
       "    <tr>\n",
       "      <th>max</th>\n",
       "      <td>66.000000</td>\n",
       "      <td>1.000000</td>\n",
       "      <td>1.000000</td>\n",
       "      <td>1.000000</td>\n",
       "      <td>1.000000</td>\n",
       "      <td>188.000000</td>\n",
       "      <td>132.000000</td>\n",
       "      <td>1.000000</td>\n",
       "      <td>1.000000</td>\n",
       "      <td>3.000000</td>\n",
       "      <td>40000.000000</td>\n",
       "    </tr>\n",
       "  </tbody>\n",
       "</table>\n",
       "</div>"
      ],
      "text/plain": [
       "              Age    Diabetes  BloodPressureProblems  AnyTransplants  \\\n",
       "count  986.000000  986.000000             986.000000      986.000000   \n",
       "mean    41.745436    0.419878               0.468560        0.055781   \n",
       "std     13.963371    0.493789               0.499264        0.229615   \n",
       "min     18.000000    0.000000               0.000000        0.000000   \n",
       "25%     30.000000    0.000000               0.000000        0.000000   \n",
       "50%     42.000000    0.000000               0.000000        0.000000   \n",
       "75%     53.000000    1.000000               1.000000        0.000000   \n",
       "max     66.000000    1.000000               1.000000        1.000000   \n",
       "\n",
       "       AnyChronicDiseases      Height      Weight  KnownAllergies  \\\n",
       "count          986.000000  986.000000  986.000000      986.000000   \n",
       "mean             0.180527  168.182556   76.950304        0.215010   \n",
       "std              0.384821   10.098155   14.265096        0.411038   \n",
       "min              0.000000  145.000000   51.000000        0.000000   \n",
       "25%              0.000000  161.000000   67.000000        0.000000   \n",
       "50%              0.000000  168.000000   75.000000        0.000000   \n",
       "75%              0.000000  176.000000   87.000000        0.000000   \n",
       "max              1.000000  188.000000  132.000000        1.000000   \n",
       "\n",
       "       HistoryOfCancerInFamily  NumberOfMajorSurgeries  PremiumPrice  \n",
       "count               986.000000              986.000000    986.000000  \n",
       "mean                  0.117647                0.667343  24336.713996  \n",
       "std                   0.322353                0.749205   6248.184382  \n",
       "min                   0.000000                0.000000  15000.000000  \n",
       "25%                   0.000000                0.000000  21000.000000  \n",
       "50%                   0.000000                1.000000  23000.000000  \n",
       "75%                   0.000000                1.000000  28000.000000  \n",
       "max                   1.000000                3.000000  40000.000000  "
      ]
     },
     "execution_count": 8,
     "metadata": {},
     "output_type": "execute_result"
    }
   ],
   "source": [
    "df.describe()"
   ]
  },
  {
   "cell_type": "code",
   "execution_count": 15,
   "metadata": {},
   "outputs": [
    {
     "data": {
      "text/plain": [
       "<seaborn.axisgrid.FacetGrid at 0x136890b90>"
      ]
     },
     "execution_count": 15,
     "metadata": {},
     "output_type": "execute_result"
    },
    {
     "data": {
      "image/png": "[encoded data removed]",
      "text/plain": [
       "<Figure size 833.333x500 with 1 Axes>"
      ]
     },
     "metadata": {},
     "output_type": "display_data"
    }
   ],
   "source": [
    "# Distribution of the data for Age\n",
    "sns.displot(x='Age',data=df,kind='hist',aspect=10/6,kde=True)"
   ]
  },
  {
   "cell_type": "code",
   "execution_count": 17,
   "metadata": {},
   "outputs": [
    {
     "data": {
      "text/plain": [
       "<seaborn.axisgrid.FacetGrid at 0x1395d38d0>"
      ]
     },
     "execution_count": 17,
     "metadata": {},
     "output_type": "execute_result"
    },
    {
     "data": {
      "image/png": "[encoded data removed]",
      "text/plain": [
       "<Figure size 833.333x500 with 1 Axes>"
      ]
     },
     "metadata": {},
     "output_type": "display_data"
    }
   ],
   "source": [
    "# Distribution of the data for Premium\n",
    "sns.displot(x='PremiumPrice',data=df,kind='hist',aspect=10/6,kde=True)"
   ]
  },
  {
   "cell_type": "code",
   "execution_count": 20,
   "metadata": {},
   "outputs": [],
   "source": [
    "#Binning\n",
    "pr_lab= ['Basic', 'Standard', 'Elevated', 'Intense', 'Extreme']\n",
    "df['PremiumLabel']=pr_bins=pd.cut(df['PremiumPrice'],bins=5,labels=pr_lab,precision=0)\n",
    "df['AgeLabel']=pr_bins=pd.cut(df['Age'],bins=5,labels=pr_lab,precision=0)\n",
    "df['WeightLabel']=pr_bins=pd.cut(df['Weight'],bins=5,labels=pr_lab,precision=0)\n",
    "df['HeightLabel']=pr_bins=pd.cut(df['Height'],bins=5,labels=pr_lab,precision=0)"
   ]
  },
  {
   "cell_type": "code",
   "execution_count": 21,
   "metadata": {},
   "outputs": [
    {
     "data": {
      "text/plain": [
       "Index(['Age', 'Diabetes', 'BloodPressureProblems', 'AnyTransplants',\n",
       "       'AnyChronicDiseases', 'Height', 'Weight', 'KnownAllergies',\n",
       "       'HistoryOfCancerInFamily', 'NumberOfMajorSurgeries', 'PremiumPrice',\n",
       "       'PremiumLabel', 'AgeLabel', 'WeightLabel', 'HeightLabel'],\n",
       "      dtype='object')"
      ]
     },
     "execution_count": 21,
     "metadata": {},
     "output_type": "execute_result"
    }
   ],
   "source": [
    "df.columns"
   ]
  },
  {
   "cell_type": "code",
   "execution_count": 22,
   "metadata": {},
   "outputs": [
    {
     "data": {
      "text/html": [
       "<div>\n",
       "<style scoped>\n",
       "    .dataframe tbody tr th:only-of-type {\n",
       "        vertical-align: middle;\n",
       "    }\n",
       "\n",
       "    .dataframe tbody tr th {\n",
       "        vertical-align: top;\n",
       "    }\n",
       "\n",
       "    .dataframe thead th {\n",
       "        text-align: right;\n",
       "    }\n",
       "</style>\n",
       "<table border=\"1\" class=\"dataframe\">\n",
       "  <thead>\n",
       "    <tr style=\"text-align: right;\">\n",
       "      <th></th>\n",
       "      <th>Age</th>\n",
       "      <th>Diabetes</th>\n",
       "      <th>BloodPressureProblems</th>\n",
       "      <th>AnyTransplants</th>\n",
       "      <th>AnyChronicDiseases</th>\n",
       "      <th>Height</th>\n",
       "      <th>Weight</th>\n",
       "      <th>KnownAllergies</th>\n",
       "      <th>HistoryOfCancerInFamily</th>\n",
       "      <th>NumberOfMajorSurgeries</th>\n",
       "      <th>PremiumPrice</th>\n",
       "      <th>PremiumLabel</th>\n",
       "      <th>AgeLabel</th>\n",
       "      <th>WeightLabel</th>\n",
       "      <th>HeightLabel</th>\n",
       "    </tr>\n",
       "  </thead>\n",
       "  <tbody>\n",
       "    <tr>\n",
       "      <th>0</th>\n",
       "      <td>45</td>\n",
       "      <td>0</td>\n",
       "      <td>0</td>\n",
       "      <td>0</td>\n",
       "      <td>0</td>\n",
       "      <td>155</td>\n",
       "      <td>57</td>\n",
       "      <td>0</td>\n",
       "      <td>0</td>\n",
       "      <td>0</td>\n",
       "      <td>25000</td>\n",
       "      <td>Standard</td>\n",
       "      <td>Elevated</td>\n",
       "      <td>Basic</td>\n",
       "      <td>Standard</td>\n",
       "    </tr>\n",
       "    <tr>\n",
       "      <th>1</th>\n",
       "      <td>60</td>\n",
       "      <td>1</td>\n",
       "      <td>0</td>\n",
       "      <td>0</td>\n",
       "      <td>0</td>\n",
       "      <td>180</td>\n",
       "      <td>73</td>\n",
       "      <td>0</td>\n",
       "      <td>0</td>\n",
       "      <td>0</td>\n",
       "      <td>29000</td>\n",
       "      <td>Elevated</td>\n",
       "      <td>Extreme</td>\n",
       "      <td>Standard</td>\n",
       "      <td>Extreme</td>\n",
       "    </tr>\n",
       "    <tr>\n",
       "      <th>2</th>\n",
       "      <td>36</td>\n",
       "      <td>1</td>\n",
       "      <td>1</td>\n",
       "      <td>0</td>\n",
       "      <td>0</td>\n",
       "      <td>158</td>\n",
       "      <td>59</td>\n",
       "      <td>0</td>\n",
       "      <td>0</td>\n",
       "      <td>1</td>\n",
       "      <td>23000</td>\n",
       "      <td>Standard</td>\n",
       "      <td>Standard</td>\n",
       "      <td>Basic</td>\n",
       "      <td>Standard</td>\n",
       "    </tr>\n",
       "    <tr>\n",
       "      <th>3</th>\n",
       "      <td>52</td>\n",
       "      <td>1</td>\n",
       "      <td>1</td>\n",
       "      <td>0</td>\n",
       "      <td>1</td>\n",
       "      <td>183</td>\n",
       "      <td>93</td>\n",
       "      <td>0</td>\n",
       "      <td>0</td>\n",
       "      <td>2</td>\n",
       "      <td>28000</td>\n",
       "      <td>Elevated</td>\n",
       "      <td>Intense</td>\n",
       "      <td>Elevated</td>\n",
       "      <td>Extreme</td>\n",
       "    </tr>\n",
       "    <tr>\n",
       "      <th>4</th>\n",
       "      <td>38</td>\n",
       "      <td>0</td>\n",
       "      <td>0</td>\n",
       "      <td>0</td>\n",
       "      <td>1</td>\n",
       "      <td>166</td>\n",
       "      <td>88</td>\n",
       "      <td>0</td>\n",
       "      <td>0</td>\n",
       "      <td>1</td>\n",
       "      <td>23000</td>\n",
       "      <td>Standard</td>\n",
       "      <td>Elevated</td>\n",
       "      <td>Elevated</td>\n",
       "      <td>Elevated</td>\n",
       "    </tr>\n",
       "  </tbody>\n",
       "</table>\n",
       "</div>"
      ],
      "text/plain": [
       "   Age  Diabetes  BloodPressureProblems  AnyTransplants  AnyChronicDiseases  \\\n",
       "0   45         0                      0               0                   0   \n",
       "1   60         1                      0               0                   0   \n",
       "2   36         1                      1               0                   0   \n",
       "3   52         1                      1               0                   1   \n",
       "4   38         0                      0               0                   1   \n",
       "\n",
       "   Height  Weight  KnownAllergies  HistoryOfCancerInFamily  \\\n",
       "0     155      57               0                        0   \n",
       "1     180      73               0                        0   \n",
       "2     158      59               0                        0   \n",
       "3     183      93               0                        0   \n",
       "4     166      88               0                        0   \n",
       "\n",
       "   NumberOfMajorSurgeries  PremiumPrice PremiumLabel  AgeLabel WeightLabel  \\\n",
       "0                       0         25000     Standard  Elevated       Basic   \n",
       "1                       0         29000     Elevated   Extreme    Standard   \n",
       "2                       1         23000     Standard  Standard       Basic   \n",
       "3                       2         28000     Elevated   Intense    Elevated   \n",
       "4                       1         23000     Standard  Elevated    Elevated   \n",
       "\n",
       "  HeightLabel  \n",
       "0    Standard  \n",
       "1     Extreme  \n",
       "2    Standard  \n",
       "3     Extreme  \n",
       "4    Elevated  "
      ]
     },
     "execution_count": 22,
     "metadata": {},
     "output_type": "execute_result"
    }
   ],
   "source": [
    "df.head()"
   ]
  },
  {
   "cell_type": "code",
   "execution_count": 23,
   "metadata": {},
   "outputs": [
    {
     "data": {
      "text/plain": [
       "PremiumLabel  AnyTransplants\n",
       "Basic         0                 213\n",
       "              1                  11\n",
       "Standard      0                 382\n",
       "              1                   1\n",
       "Elevated      0                 252\n",
       "              1                   7\n",
       "Intense       0                  76\n",
       "              1                   2\n",
       "Extreme       0                   8\n",
       "              1                  34\n",
       "Name: AnyTransplants, dtype: int64"
      ]
     },
     "execution_count": 23,
     "metadata": {},
     "output_type": "execute_result"
    }
   ],
   "source": [
    "df.groupby(['PremiumLabel','AnyTransplants'])['AnyTransplants'].count()"
   ]
  },
  {
   "cell_type": "code",
   "execution_count": 24,
   "metadata": {},
   "outputs": [
    {
     "data": {
      "text/plain": [
       "<Axes: xlabel='PremiumLabel', ylabel='count'>"
      ]
     },
     "execution_count": 24,
     "metadata": {},
     "output_type": "execute_result"
    },
    {
     "data": {
      "image/png": "[encoded data removed]",
      "text/plain": [
       "<Figure size 1200x600 with 1 Axes>"
      ]
     },
     "metadata": {},
     "output_type": "display_data"
    }
   ],
   "source": [
    "fig,ax=plt.subplots(figsize=(12,6))\n",
    "sns.countplot(x='PremiumLabel',hue='AnyTransplants', data=df,ax=ax)"
   ]
  },
  {
   "cell_type": "code",
   "execution_count": 25,
   "metadata": {},
   "outputs": [
    {
     "data": {
      "text/plain": [
       "PremiumLabel  NumberOfMajorSurgeries\n",
       "Basic         0                         142\n",
       "              1                          82\n",
       "              2                           0\n",
       "              3                           0\n",
       "Standard      0                         226\n",
       "              1                         156\n",
       "              2                           1\n",
       "              3                           0\n",
       "Elevated      0                          67\n",
       "              1                          59\n",
       "              2                         117\n",
       "              3                          16\n",
       "Intense       0                          22\n",
       "              1                          56\n",
       "              2                           0\n",
       "              3                           0\n",
       "Extreme       0                          22\n",
       "              1                          19\n",
       "              2                           1\n",
       "              3                           0\n",
       "Name: NumberOfMajorSurgeries, dtype: int64"
      ]
     },
     "execution_count": 25,
     "metadata": {},
     "output_type": "execute_result"
    }
   ],
   "source": [
    "df.groupby(['PremiumLabel','NumberOfMajorSurgeries'])['NumberOfMajorSurgeries'].count()"
   ]
  },
  {
   "cell_type": "code",
   "execution_count": 26,
   "metadata": {},
   "outputs": [
    {
     "data": {
      "text/plain": [
       "<Axes: xlabel='PremiumLabel', ylabel='count'>"
      ]
     },
     "execution_count": 26,
     "metadata": {},
     "output_type": "execute_result"
    },
    {
     "data": {
      "image/png": "[encoded data removed]",
      "text/plain": [
       "<Figure size 1200x600 with 1 Axes>"
      ]
     },
     "metadata": {},
     "output_type": "display_data"
    }
   ],
   "source": [
    "fig,ax=plt.subplots(figsize=(12,6))\n",
    "sns.countplot(x='PremiumLabel',hue='NumberOfMajorSurgeries', data=df,ax=ax)"
   ]
  },
  {
   "cell_type": "code",
   "execution_count": 27,
   "metadata": {},
   "outputs": [
    {
     "data": {
      "text/plain": [
       "<Axes: xlabel='PremiumLabel', ylabel='count'>"
      ]
     },
     "execution_count": 27,
     "metadata": {},
     "output_type": "execute_result"
    },
    {
     "data": {
      "image/png": "[encoded data removed]",
      "text/plain": [
       "<Figure size 1200x600 with 1 Axes>"
      ]
     },
     "metadata": {},
     "output_type": "display_data"
    }
   ],
   "source": [
    "fig,ax=plt.subplots(figsize=(12,6))\n",
    "sns.countplot(x='PremiumLabel',hue='AgeLabel',data=df,ax=ax)"
   ]
  },
  {
   "cell_type": "code",
   "execution_count": 28,
   "metadata": {},
   "outputs": [
    {
     "data": {
      "text/plain": [
       "<Axes: xlabel='WeightLabel', ylabel='count'>"
      ]
     },
     "execution_count": 28,
     "metadata": {},
     "output_type": "execute_result"
    },
    {
     "data": {
      "image/png": "[encoded data removed]",
      "text/plain": [
       "<Figure size 1200x600 with 1 Axes>"
      ]
     },
     "metadata": {},
     "output_type": "display_data"
    }
   ],
   "source": [
    "fig,ax=plt.subplots(figsize=(12,6))\n",
    "sns.countplot(x='WeightLabel',hue='AgeLabel',data=df,ax=ax)"
   ]
  },
  {
   "cell_type": "code",
   "execution_count": 29,
   "metadata": {},
   "outputs": [
    {
     "data": {
      "text/plain": [
       "<Axes: xlabel='AgeLabel'>"
      ]
     },
     "execution_count": 29,
     "metadata": {},
     "output_type": "execute_result"
    },
    {
     "data": {
      "image/png": "[encoded data removed]",
      "text/plain": [
       "<Figure size 640x480 with 1 Axes>"
      ]
     },
     "metadata": {},
     "output_type": "display_data"
    }
   ],
   "source": [
    "df.groupby(['AgeLabel'])['PremiumPrice'].mean().plot(kind='bar')"
   ]
  },
  {
   "cell_type": "code",
   "execution_count": 30,
   "metadata": {},
   "outputs": [
    {
     "data": {
      "text/plain": [
       "Index(['Age', 'Diabetes', 'BloodPressureProblems', 'AnyTransplants',\n",
       "       'AnyChronicDiseases', 'Height', 'Weight', 'KnownAllergies',\n",
       "       'HistoryOfCancerInFamily', 'NumberOfMajorSurgeries', 'PremiumPrice',\n",
       "       'PremiumLabel', 'AgeLabel', 'WeightLabel', 'HeightLabel'],\n",
       "      dtype='object')"
      ]
     },
     "execution_count": 30,
     "metadata": {},
     "output_type": "execute_result"
    }
   ],
   "source": [
    "df.columns"
   ]
  },
  {
   "cell_type": "code",
   "execution_count": 31,
   "metadata": {},
   "outputs": [],
   "source": [
    "df=pd.get_dummies(data=df,columns=['AgeLabel','PremiumLabel','WeightLabel', 'HeightLabel'])"
   ]
  },
  {
   "cell_type": "code",
   "execution_count": 32,
   "metadata": {},
   "outputs": [
    {
     "data": {
      "text/plain": [
       "Index(['Age', 'Diabetes', 'BloodPressureProblems', 'AnyTransplants',\n",
       "       'AnyChronicDiseases', 'Height', 'Weight', 'KnownAllergies',\n",
       "       'HistoryOfCancerInFamily', 'NumberOfMajorSurgeries', 'PremiumPrice',\n",
       "       'AgeLabel_Basic', 'AgeLabel_Standard', 'AgeLabel_Elevated',\n",
       "       'AgeLabel_Intense', 'AgeLabel_Extreme', 'PremiumLabel_Basic',\n",
       "       'PremiumLabel_Standard', 'PremiumLabel_Elevated',\n",
       "       'PremiumLabel_Intense', 'PremiumLabel_Extreme', 'WeightLabel_Basic',\n",
       "       'WeightLabel_Standard', 'WeightLabel_Elevated', 'WeightLabel_Intense',\n",
       "       'WeightLabel_Extreme', 'HeightLabel_Basic', 'HeightLabel_Standard',\n",
       "       'HeightLabel_Elevated', 'HeightLabel_Intense', 'HeightLabel_Extreme'],\n",
       "      dtype='object')"
      ]
     },
     "execution_count": 32,
     "metadata": {},
     "output_type": "execute_result"
    }
   ],
   "source": [
    "df.columns"
   ]
  },
  {
   "cell_type": "code",
   "execution_count": 34,
   "metadata": {},
   "outputs": [
    {
     "data": {
      "text/plain": [
       "(986, 31)"
      ]
     },
     "execution_count": 34,
     "metadata": {},
     "output_type": "execute_result"
    }
   ],
   "source": [
    "#New Shape of the data\n",
    "df.shape"
   ]
  },
  {
   "cell_type": "code",
   "execution_count": 35,
   "metadata": {},
   "outputs": [],
   "source": [
    "# Getting Features and Target datasets\n",
    "X=df.drop(['PremiumPrice'],axis=1)\n",
    "y=df['PremiumPrice']"
   ]
  },
  {
   "cell_type": "code",
   "execution_count": 37,
   "metadata": {},
   "outputs": [],
   "source": [
    "from sklearn.preprocessing import StandardScaler\n",
    "sc=StandardScaler()\n",
    "xsc=sc.fit_transform(X)"
   ]
  },
  {
   "cell_type": "code",
   "execution_count": 39,
   "metadata": {},
   "outputs": [],
   "source": [
    "xsc=pd.DataFrame(xsc,columns=X.columns)"
   ]
  },
  {
   "cell_type": "code",
   "execution_count": 40,
   "metadata": {},
   "outputs": [
    {
     "data": {
      "text/html": [
       "<div>\n",
       "<style scoped>\n",
       "    .dataframe tbody tr th:only-of-type {\n",
       "        vertical-align: middle;\n",
       "    }\n",
       "\n",
       "    .dataframe tbody tr th {\n",
       "        vertical-align: top;\n",
       "    }\n",
       "\n",
       "    .dataframe thead th {\n",
       "        text-align: right;\n",
       "    }\n",
       "</style>\n",
       "<table border=\"1\" class=\"dataframe\">\n",
       "  <thead>\n",
       "    <tr style=\"text-align: right;\">\n",
       "      <th></th>\n",
       "      <th>Age</th>\n",
       "      <th>Diabetes</th>\n",
       "      <th>BloodPressureProblems</th>\n",
       "      <th>AnyTransplants</th>\n",
       "      <th>AnyChronicDiseases</th>\n",
       "      <th>Height</th>\n",
       "      <th>Weight</th>\n",
       "      <th>KnownAllergies</th>\n",
       "      <th>HistoryOfCancerInFamily</th>\n",
       "      <th>NumberOfMajorSurgeries</th>\n",
       "      <th>...</th>\n",
       "      <th>WeightLabel_Basic</th>\n",
       "      <th>WeightLabel_Standard</th>\n",
       "      <th>WeightLabel_Elevated</th>\n",
       "      <th>WeightLabel_Intense</th>\n",
       "      <th>WeightLabel_Extreme</th>\n",
       "      <th>HeightLabel_Basic</th>\n",
       "      <th>HeightLabel_Standard</th>\n",
       "      <th>HeightLabel_Elevated</th>\n",
       "      <th>HeightLabel_Intense</th>\n",
       "      <th>HeightLabel_Extreme</th>\n",
       "    </tr>\n",
       "  </thead>\n",
       "  <tbody>\n",
       "    <tr>\n",
       "      <th>0</th>\n",
       "      <td>0.233197</td>\n",
       "      <td>-0.850750</td>\n",
       "      <td>-0.938978</td>\n",
       "      <td>-0.243056</td>\n",
       "      <td>-0.469358</td>\n",
       "      <td>-1.306105</td>\n",
       "      <td>-1.399250</td>\n",
       "      <td>-0.523356</td>\n",
       "      <td>-0.365148</td>\n",
       "      <td>-0.891187</td>\n",
       "      <td>...</td>\n",
       "      <td>1.649471</td>\n",
       "      <td>-0.859638</td>\n",
       "      <td>-0.590624</td>\n",
       "      <td>-0.170961</td>\n",
       "      <td>-0.140173</td>\n",
       "      <td>-0.307148</td>\n",
       "      <td>1.976227</td>\n",
       "      <td>-0.629762</td>\n",
       "      <td>-0.612515</td>\n",
       "      <td>-0.425251</td>\n",
       "    </tr>\n",
       "    <tr>\n",
       "      <th>1</th>\n",
       "      <td>1.307981</td>\n",
       "      <td>1.175433</td>\n",
       "      <td>-0.938978</td>\n",
       "      <td>-0.243056</td>\n",
       "      <td>-0.469358</td>\n",
       "      <td>1.170852</td>\n",
       "      <td>-0.277062</td>\n",
       "      <td>-0.523356</td>\n",
       "      <td>-0.365148</td>\n",
       "      <td>-0.891187</td>\n",
       "      <td>...</td>\n",
       "      <td>-0.606255</td>\n",
       "      <td>1.163281</td>\n",
       "      <td>-0.590624</td>\n",
       "      <td>-0.170961</td>\n",
       "      <td>-0.140173</td>\n",
       "      <td>-0.307148</td>\n",
       "      <td>-0.506015</td>\n",
       "      <td>-0.629762</td>\n",
       "      <td>-0.612515</td>\n",
       "      <td>2.351553</td>\n",
       "    </tr>\n",
       "    <tr>\n",
       "      <th>2</th>\n",
       "      <td>-0.411674</td>\n",
       "      <td>1.175433</td>\n",
       "      <td>1.064988</td>\n",
       "      <td>-0.243056</td>\n",
       "      <td>-0.469358</td>\n",
       "      <td>-1.008870</td>\n",
       "      <td>-1.258976</td>\n",
       "      <td>-0.523356</td>\n",
       "      <td>-0.365148</td>\n",
       "      <td>0.444239</td>\n",
       "      <td>...</td>\n",
       "      <td>1.649471</td>\n",
       "      <td>-0.859638</td>\n",
       "      <td>-0.590624</td>\n",
       "      <td>-0.170961</td>\n",
       "      <td>-0.140173</td>\n",
       "      <td>-0.307148</td>\n",
       "      <td>1.976227</td>\n",
       "      <td>-0.629762</td>\n",
       "      <td>-0.612515</td>\n",
       "      <td>-0.425251</td>\n",
       "    </tr>\n",
       "    <tr>\n",
       "      <th>3</th>\n",
       "      <td>0.734763</td>\n",
       "      <td>1.175433</td>\n",
       "      <td>1.064988</td>\n",
       "      <td>-0.243056</td>\n",
       "      <td>2.130569</td>\n",
       "      <td>1.468086</td>\n",
       "      <td>1.125674</td>\n",
       "      <td>-0.523356</td>\n",
       "      <td>-0.365148</td>\n",
       "      <td>1.779665</td>\n",
       "      <td>...</td>\n",
       "      <td>-0.606255</td>\n",
       "      <td>-0.859638</td>\n",
       "      <td>1.693123</td>\n",
       "      <td>-0.170961</td>\n",
       "      <td>-0.140173</td>\n",
       "      <td>-0.307148</td>\n",
       "      <td>-0.506015</td>\n",
       "      <td>-0.629762</td>\n",
       "      <td>-0.612515</td>\n",
       "      <td>2.351553</td>\n",
       "    </tr>\n",
       "    <tr>\n",
       "      <th>4</th>\n",
       "      <td>-0.268369</td>\n",
       "      <td>-0.850750</td>\n",
       "      <td>-0.938978</td>\n",
       "      <td>-0.243056</td>\n",
       "      <td>2.130569</td>\n",
       "      <td>-0.216244</td>\n",
       "      <td>0.774990</td>\n",
       "      <td>-0.523356</td>\n",
       "      <td>-0.365148</td>\n",
       "      <td>0.444239</td>\n",
       "      <td>...</td>\n",
       "      <td>-0.606255</td>\n",
       "      <td>-0.859638</td>\n",
       "      <td>1.693123</td>\n",
       "      <td>-0.170961</td>\n",
       "      <td>-0.140173</td>\n",
       "      <td>-0.307148</td>\n",
       "      <td>-0.506015</td>\n",
       "      <td>1.587901</td>\n",
       "      <td>-0.612515</td>\n",
       "      <td>-0.425251</td>\n",
       "    </tr>\n",
       "    <tr>\n",
       "      <th>...</th>\n",
       "      <td>...</td>\n",
       "      <td>...</td>\n",
       "      <td>...</td>\n",
       "      <td>...</td>\n",
       "      <td>...</td>\n",
       "      <td>...</td>\n",
       "      <td>...</td>\n",
       "      <td>...</td>\n",
       "      <td>...</td>\n",
       "      <td>...</td>\n",
       "      <td>...</td>\n",
       "      <td>...</td>\n",
       "      <td>...</td>\n",
       "      <td>...</td>\n",
       "      <td>...</td>\n",
       "      <td>...</td>\n",
       "      <td>...</td>\n",
       "      <td>...</td>\n",
       "      <td>...</td>\n",
       "      <td>...</td>\n",
       "      <td>...</td>\n",
       "    </tr>\n",
       "    <tr>\n",
       "      <th>981</th>\n",
       "      <td>-1.701415</td>\n",
       "      <td>-0.850750</td>\n",
       "      <td>-0.938978</td>\n",
       "      <td>-0.243056</td>\n",
       "      <td>-0.469358</td>\n",
       "      <td>0.080991</td>\n",
       "      <td>-0.697882</td>\n",
       "      <td>-0.523356</td>\n",
       "      <td>-0.365148</td>\n",
       "      <td>-0.891187</td>\n",
       "      <td>...</td>\n",
       "      <td>1.649471</td>\n",
       "      <td>-0.859638</td>\n",
       "      <td>-0.590624</td>\n",
       "      <td>-0.170961</td>\n",
       "      <td>-0.140173</td>\n",
       "      <td>-0.307148</td>\n",
       "      <td>-0.506015</td>\n",
       "      <td>1.587901</td>\n",
       "      <td>-0.612515</td>\n",
       "      <td>-0.425251</td>\n",
       "    </tr>\n",
       "    <tr>\n",
       "      <th>982</th>\n",
       "      <td>1.594590</td>\n",
       "      <td>1.175433</td>\n",
       "      <td>1.064988</td>\n",
       "      <td>-0.243056</td>\n",
       "      <td>-0.469358</td>\n",
       "      <td>-1.504261</td>\n",
       "      <td>-0.487472</td>\n",
       "      <td>-0.523356</td>\n",
       "      <td>-0.365148</td>\n",
       "      <td>3.115090</td>\n",
       "      <td>...</td>\n",
       "      <td>-0.606255</td>\n",
       "      <td>1.163281</td>\n",
       "      <td>-0.590624</td>\n",
       "      <td>-0.170961</td>\n",
       "      <td>-0.140173</td>\n",
       "      <td>3.255764</td>\n",
       "      <td>-0.506015</td>\n",
       "      <td>-0.629762</td>\n",
       "      <td>-0.612515</td>\n",
       "      <td>-0.425251</td>\n",
       "    </tr>\n",
       "    <tr>\n",
       "      <th>983</th>\n",
       "      <td>1.021372</td>\n",
       "      <td>-0.850750</td>\n",
       "      <td>1.064988</td>\n",
       "      <td>-0.243056</td>\n",
       "      <td>-0.469358</td>\n",
       "      <td>-1.306105</td>\n",
       "      <td>-0.417335</td>\n",
       "      <td>-0.523356</td>\n",
       "      <td>-0.365148</td>\n",
       "      <td>0.444239</td>\n",
       "      <td>...</td>\n",
       "      <td>-0.606255</td>\n",
       "      <td>1.163281</td>\n",
       "      <td>-0.590624</td>\n",
       "      <td>-0.170961</td>\n",
       "      <td>-0.140173</td>\n",
       "      <td>-0.307148</td>\n",
       "      <td>1.976227</td>\n",
       "      <td>-0.629762</td>\n",
       "      <td>-0.612515</td>\n",
       "      <td>-0.425251</td>\n",
       "    </tr>\n",
       "    <tr>\n",
       "      <th>984</th>\n",
       "      <td>0.376502</td>\n",
       "      <td>1.175433</td>\n",
       "      <td>1.064988</td>\n",
       "      <td>-0.243056</td>\n",
       "      <td>-0.469358</td>\n",
       "      <td>-1.008870</td>\n",
       "      <td>-0.277062</td>\n",
       "      <td>1.910744</td>\n",
       "      <td>-0.365148</td>\n",
       "      <td>0.444239</td>\n",
       "      <td>...</td>\n",
       "      <td>-0.606255</td>\n",
       "      <td>1.163281</td>\n",
       "      <td>-0.590624</td>\n",
       "      <td>-0.170961</td>\n",
       "      <td>-0.140173</td>\n",
       "      <td>-0.307148</td>\n",
       "      <td>1.976227</td>\n",
       "      <td>-0.629762</td>\n",
       "      <td>-0.612515</td>\n",
       "      <td>-0.425251</td>\n",
       "    </tr>\n",
       "    <tr>\n",
       "      <th>985</th>\n",
       "      <td>-1.486458</td>\n",
       "      <td>-0.850750</td>\n",
       "      <td>-0.938978</td>\n",
       "      <td>-0.243056</td>\n",
       "      <td>-0.469358</td>\n",
       "      <td>-1.008870</td>\n",
       "      <td>-0.136788</td>\n",
       "      <td>1.910744</td>\n",
       "      <td>-0.365148</td>\n",
       "      <td>0.444239</td>\n",
       "      <td>...</td>\n",
       "      <td>-0.606255</td>\n",
       "      <td>1.163281</td>\n",
       "      <td>-0.590624</td>\n",
       "      <td>-0.170961</td>\n",
       "      <td>-0.140173</td>\n",
       "      <td>-0.307148</td>\n",
       "      <td>1.976227</td>\n",
       "      <td>-0.629762</td>\n",
       "      <td>-0.612515</td>\n",
       "      <td>-0.425251</td>\n",
       "    </tr>\n",
       "  </tbody>\n",
       "</table>\n",
       "<p>986 rows × 30 columns</p>\n",
       "</div>"
      ],
      "text/plain": [
       "          Age  Diabetes  BloodPressureProblems  AnyTransplants  \\\n",
       "0    0.233197 -0.850750              -0.938978       -0.243056   \n",
       "1    1.307981  1.175433              -0.938978       -0.243056   \n",
       "2   -0.411674  1.175433               1.064988       -0.243056   \n",
       "3    0.734763  1.175433               1.064988       -0.243056   \n",
       "4   -0.268369 -0.850750              -0.938978       -0.243056   \n",
       "..        ...       ...                    ...             ...   \n",
       "981 -1.701415 -0.850750              -0.938978       -0.243056   \n",
       "982  1.594590  1.175433               1.064988       -0.243056   \n",
       "983  1.021372 -0.850750               1.064988       -0.243056   \n",
       "984  0.376502  1.175433               1.064988       -0.243056   \n",
       "985 -1.486458 -0.850750              -0.938978       -0.243056   \n",
       "\n",
       "     AnyChronicDiseases    Height    Weight  KnownAllergies  \\\n",
       "0             -0.469358 -1.306105 -1.399250       -0.523356   \n",
       "1             -0.469358  1.170852 -0.277062       -0.523356   \n",
       "2             -0.469358 -1.008870 -1.258976       -0.523356   \n",
       "3              2.130569  1.468086  1.125674       -0.523356   \n",
       "4              2.130569 -0.216244  0.774990       -0.523356   \n",
       "..                  ...       ...       ...             ...   \n",
       "981           -0.469358  0.080991 -0.697882       -0.523356   \n",
       "982           -0.469358 -1.504261 -0.487472       -0.523356   \n",
       "983           -0.469358 -1.306105 -0.417335       -0.523356   \n",
       "984           -0.469358 -1.008870 -0.277062        1.910744   \n",
       "985           -0.469358 -1.008870 -0.136788        1.910744   \n",
       "\n",
       "     HistoryOfCancerInFamily  NumberOfMajorSurgeries  ...  WeightLabel_Basic  \\\n",
       "0                  -0.365148               -0.891187  ...           1.649471   \n",
       "1                  -0.365148               -0.891187  ...          -0.606255   \n",
       "2                  -0.365148                0.444239  ...           1.649471   \n",
       "3                  -0.365148                1.779665  ...          -0.606255   \n",
       "4                  -0.365148                0.444239  ...          -0.606255   \n",
       "..                       ...                     ...  ...                ...   \n",
       "981                -0.365148               -0.891187  ...           1.649471   \n",
       "982                -0.365148                3.115090  ...          -0.606255   \n",
       "983                -0.365148                0.444239  ...          -0.606255   \n",
       "984                -0.365148                0.444239  ...          -0.606255   \n",
       "985                -0.365148                0.444239  ...          -0.606255   \n",
       "\n",
       "     WeightLabel_Standard  WeightLabel_Elevated  WeightLabel_Intense  \\\n",
       "0               -0.859638             -0.590624            -0.170961   \n",
       "1                1.163281             -0.590624            -0.170961   \n",
       "2               -0.859638             -0.590624            -0.170961   \n",
       "3               -0.859638              1.693123            -0.170961   \n",
       "4               -0.859638              1.693123            -0.170961   \n",
       "..                    ...                   ...                  ...   \n",
       "981             -0.859638             -0.590624            -0.170961   \n",
       "982              1.163281             -0.590624            -0.170961   \n",
       "983              1.163281             -0.590624            -0.170961   \n",
       "984              1.163281             -0.590624            -0.170961   \n",
       "985              1.163281             -0.590624            -0.170961   \n",
       "\n",
       "     WeightLabel_Extreme  HeightLabel_Basic  HeightLabel_Standard  \\\n",
       "0              -0.140173          -0.307148              1.976227   \n",
       "1              -0.140173          -0.307148             -0.506015   \n",
       "2              -0.140173          -0.307148              1.976227   \n",
       "3              -0.140173          -0.307148             -0.506015   \n",
       "4              -0.140173          -0.307148             -0.506015   \n",
       "..                   ...                ...                   ...   \n",
       "981            -0.140173          -0.307148             -0.506015   \n",
       "982            -0.140173           3.255764             -0.506015   \n",
       "983            -0.140173          -0.307148              1.976227   \n",
       "984            -0.140173          -0.307148              1.976227   \n",
       "985            -0.140173          -0.307148              1.976227   \n",
       "\n",
       "     HeightLabel_Elevated  HeightLabel_Intense  HeightLabel_Extreme  \n",
       "0               -0.629762            -0.612515            -0.425251  \n",
       "1               -0.629762            -0.612515             2.351553  \n",
       "2               -0.629762            -0.612515            -0.425251  \n",
       "3               -0.629762            -0.612515             2.351553  \n",
       "4                1.587901            -0.612515            -0.425251  \n",
       "..                    ...                  ...                  ...  \n",
       "981              1.587901            -0.612515            -0.425251  \n",
       "982             -0.629762            -0.612515            -0.425251  \n",
       "983             -0.629762            -0.612515            -0.425251  \n",
       "984             -0.629762            -0.612515            -0.425251  \n",
       "985             -0.629762            -0.612515            -0.425251  \n",
       "\n",
       "[986 rows x 30 columns]"
      ]
     },
     "execution_count": 40,
     "metadata": {},
     "output_type": "execute_result"
    }
   ],
   "source": [
    "xsc"
   ]
  },
  {
   "cell_type": "code",
   "execution_count": 41,
   "metadata": {},
   "outputs": [
    {
     "data": {
      "text/plain": [
       "Index(['Age', 'PremiumLabel_Standard', 'PremiumLabel_Elevated',\n",
       "       'PremiumLabel_Basic', 'NumberOfMajorSurgeries', 'AgeLabel_Basic',\n",
       "       'PremiumLabel_Intense', 'Weight', 'PremiumLabel_Extreme',\n",
       "       'AgeLabel_Extreme', 'AgeLabel_Elevated', 'AnyChronicDiseases',\n",
       "       'AgeLabel_Standard', 'AgeLabel_Intense', 'HistoryOfCancerInFamily'],\n",
       "      dtype='object')"
      ]
     },
     "execution_count": 41,
     "metadata": {},
     "output_type": "execute_result"
    }
   ],
   "source": [
    "# Selecing the best features using RFE 15\n",
    "from sklearn.feature_selection import mutual_info_regression\n",
    "mi_scores = mutual_info_regression(xsc,y)\n",
    "mi_scores = pd.Series(mi_scores, name=\"MI Scores\",index=xsc.columns)\n",
    "mi_scores = mi_scores.sort_values(ascending=False)\n",
    "(mi_scores*100).head(15).index"
   ]
  },
  {
   "cell_type": "code",
   "execution_count": 42,
   "metadata": {},
   "outputs": [],
   "source": [
    "fea=list((mi_scores*100).head(15).index)\n",
    "xsc=xsc[fea]"
   ]
  },
  {
   "cell_type": "code",
   "execution_count": 43,
   "metadata": {},
   "outputs": [],
   "source": [
    "#Splitting the data into train and test\n",
    "from sklearn.model_selection import train_test_split\n",
    "xtrain,xtest,ytrain,ytest=train_test_split(xsc,y,test_size=0.3,random_state=42)"
   ]
  },
  {
   "cell_type": "code",
   "execution_count": 48,
   "metadata": {},
   "outputs": [],
   "source": [
    "#ML Algortijm\n",
    "from sklearn.linear_model import LinearRegression\n",
    "from sklearn.tree import DecisionTreeClassifier\n",
    "from sklearn.ensemble import RandomForestClassifier\n",
    "from sklearn.svm import SVC\n",
    "from sklearn.naive_bayes import GaussianNB"
   ]
  },
  {
   "cell_type": "code",
   "execution_count": 49,
   "metadata": {},
   "outputs": [],
   "source": [
    "clf1=LinearRegression()\n",
    "clf2=DecisionTreeClassifier()\n",
    "clf3=RandomForestClassifier()\n",
    "clf4=SVC()\n",
    "clf5=GaussianNB()"
   ]
  },
  {
   "cell_type": "code",
   "execution_count": 54,
   "metadata": {},
   "outputs": [
    {
     "name": "stdout",
     "output_type": "stream",
     "text": [
      "0.9813445259786084\n",
      "0.9459459459459459\n",
      "0.9628378378378378\n",
      "0.918918918918919\n",
      "0.7635135135135135\n"
     ]
    }
   ],
   "source": [
    "models = [clf1, clf2, clf3, clf4, clf5]\n",
    "accuracy = {}\n",
    "for model in models:\n",
    "    model.fit(xtrain,ytrain)\n",
    "    \n",
    "    accuracy[model] = model.score(xtest,ytest)\n",
    "    print(model.score(xtest,ytest))\n"
   ]
  },
  {
   "cell_type": "code",
   "execution_count": 55,
   "metadata": {},
   "outputs": [
    {
     "data": {
      "text/plain": [
       "{LinearRegression(): 0.9813445259786084,\n",
       " DecisionTreeClassifier(): 0.9459459459459459,\n",
       " RandomForestClassifier(): 0.9628378378378378,\n",
       " SVC(): 0.918918918918919,\n",
       " GaussianNB(): 0.7635135135135135}"
      ]
     },
     "execution_count": 55,
     "metadata": {},
     "output_type": "execute_result"
    }
   ],
   "source": [
    "accuracy"
   ]
  },
  {
   "cell_type": "code",
   "execution_count": 56,
   "metadata": {},
   "outputs": [],
   "source": [
    "from sklearn.metrics import r2_score"
   ]
  },
  {
   "cell_type": "code",
   "execution_count": 57,
   "metadata": {},
   "outputs": [
    {
     "data": {
      "text/plain": [
       "0.9813445259786084"
      ]
     },
     "execution_count": 57,
     "metadata": {},
     "output_type": "execute_result"
    }
   ],
   "source": [
    "r2_score(ytest,clf1.predict(xtest))"
   ]
  }
 ],
 "metadata": {
  "kernelspec": {
   "display_name": "tensorflow",
   "language": "python",
   "name": "python3"
  },
  "language_info": {
   "codemirror_mode": {
    "name": "ipython",
    "version": 3
   },
   "file_extension": ".py",
   "mimetype": "text/x-python",
   "name": "python",
   "nbconvert_exporter": "python",
   "pygments_lexer": "ipython3",
   "version": "3.11.5"
  }
 },
 "nbformat": 4,
 "nbformat_minor": 2
}
